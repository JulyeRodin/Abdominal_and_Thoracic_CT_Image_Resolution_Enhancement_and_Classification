{
 "cells": [
  {
   "cell_type": "code",
   "execution_count": null,
   "metadata": {
    "colab": {
     "base_uri": "https://localhost:8080/"
    },
    "id": "Qz_4kF-G5I8F",
    "outputId": "32627ee1-1227-43e9-f0b7-082da54686d0"
   },
   "outputs": [
    {
     "name": "stdout",
     "output_type": "stream",
     "text": [
      "Mounted at /content/drive\n"
     ]
    }
   ],
   "source": [
    "from google.colab import drive\n",
    "drive.mount('/content/drive')"
   ]
  },
  {
   "cell_type": "code",
   "execution_count": null,
   "metadata": {
    "id": "JbdAkHrY5dR7"
   },
   "outputs": [],
   "source": [
    "import os\n",
    "import numpy as np\n",
    "import zipfile\n",
    "import matplotlib.pyplot as plt\n",
    "\n",
    "from PIL import Image\n",
    "\n",
    "import torch\n",
    "import torch.nn as nn\n",
    "import torch.optim as optim\n",
    "import torch.nn.functional as F\n",
    "from torchvision import models, transforms, datasets\n",
    "from torch.utils.data import Dataset, DataLoader\n",
    "\n",
    "from tqdm.notebook import tqdm\n",
    "import time\n",
    "import copy"
   ]
  },
  {
   "cell_type": "code",
   "execution_count": null,
   "metadata": {
    "colab": {
     "base_uri": "https://localhost:8080/"
    },
    "id": "QSaHtVeP6Hr0",
    "outputId": "3fa7537e-178d-4416-deae-216c235d55b5"
   },
   "outputs": [
    {
     "data": {
      "text/plain": [
       "device(type='cuda')"
      ]
     },
     "execution_count": 3,
     "metadata": {},
     "output_type": "execute_result"
    }
   ],
   "source": [
    "device = torch.device(\"cuda\" if torch.cuda.is_available() else \"cpu\")\n",
    "device"
   ]
  },
  {
   "cell_type": "code",
   "execution_count": null,
   "metadata": {
    "id": "OxEibh937apg"
   },
   "outputs": [],
   "source": [
    "data_dir = '/content/drive/MyDrive/2024-2 DScover 메인프로젝트 D조/Data'"
   ]
  },
  {
   "cell_type": "code",
   "execution_count": null,
   "metadata": {
    "id": "GjbpwK6Y7j6E"
   },
   "outputs": [],
   "source": [
    "num_classes = 4\n",
    "batch_size = 32\n",
    "num_epochs = 50\n",
    "learning_rate = 1e-4"
   ]
  },
  {
   "cell_type": "code",
   "execution_count": null,
   "metadata": {
    "colab": {
     "base_uri": "https://localhost:8080/"
    },
    "id": "_rIBqKhQ6V-v",
    "outputId": "e841c1d9-01df-49ae-d6f1-f24de6dc9b90"
   },
   "outputs": [
    {
     "name": "stdout",
     "output_type": "stream",
     "text": [
      "Classes: ['adenocarcinoma_left.lower.lobe_T2_N0_M0_Ib', 'large.cell.carcinoma_left.hilum_T2_N2_M0_IIIa', 'normal', 'squamous.cell.carcinoma_left.hilum_T1_N2_M0_IIIa']\n"
     ]
    }
   ],
   "source": [
    "# 데이터 전처리 (학습 시 데이터 증강 포함)\n",
    "data_transforms = {\n",
    "    'train': transforms.Compose([\n",
    "        transforms.RandomResizedCrop(224),\n",
    "        transforms.RandomHorizontalFlip(),\n",
    "        transforms.ToTensor(),\n",
    "        transforms.Normalize([0.485, 0.456, 0.406],  # ImageNet 평균\n",
    "                             [0.229, 0.224, 0.225])  # ImageNet 표준편차\n",
    "    ]),\n",
    "    'valid': transforms.Compose([\n",
    "        transforms.Resize(256),\n",
    "        transforms.CenterCrop(224),\n",
    "        transforms.ToTensor(),\n",
    "        transforms.Normalize([0.485, 0.456, 0.406],\n",
    "                             [0.229, 0.224, 0.225])\n",
    "    ]),\n",
    "    'test': transforms.Compose([\n",
    "        transforms.Resize(256),\n",
    "        transforms.CenterCrop(224),\n",
    "        transforms.ToTensor(),\n",
    "        transforms.Normalize([0.485, 0.456, 0.406],\n",
    "                             [0.229, 0.224, 0.225])\n",
    "    ]),\n",
    "}\n",
    "\n",
    "# 데이터셋 로드\n",
    "image_datasets = {x: datasets.ImageFolder(os.path.join(data_dir, x),\n",
    "                                          data_transforms[x])\n",
    "                  for x in ['train', 'valid', 'test']}\n",
    "\n",
    "# 데이터로더 생성\n",
    "dataloaders = {x: DataLoader(image_datasets[x], batch_size=batch_size,\n",
    "                             shuffle=True, num_workers=4)\n",
    "               for x in ['train', 'valid', 'test']}\n",
    "\n",
    "dataset_sizes = {x: len(image_datasets[x]) for x in ['train', 'valid', 'test']}\n",
    "class_names = image_datasets['train'].classes\n",
    "\n",
    "print(f'Classes: {class_names}')"
   ]
  },
  {
   "cell_type": "code",
   "execution_count": null,
   "metadata": {
    "id": "mzGz2czfDcVR"
   },
   "outputs": [],
   "source": [
    "# 1. SE Block 정의\n",
    "class SEBlock(nn.Module):\n",
    "    def __init__(self, in_channels, reduction=16):\n",
    "        super(SEBlock, self).__init__()\n",
    "        self.global_avg_pool = nn.AdaptiveAvgPool2d(1)\n",
    "        self.fc1 = nn.Linear(in_channels, in_channels // reduction)\n",
    "        self.fc2 = nn.Linear(in_channels // reduction, in_channels)\n",
    "        self.sigmoid = nn.Sigmoid()\n",
    "\n",
    "    def forward(self, x):\n",
    "        batch_size, channels, _, _ = x.size()\n",
    "        se = self.global_avg_pool(x).view(batch_size, channels)\n",
    "        se = self.fc1(se)\n",
    "        se = F.relu(se)\n",
    "        se = self.fc2(se)\n",
    "        se = self.sigmoid(se).view(batch_size, channels, 1, 1)\n",
    "        return x * se\n",
    "\n",
    "class SEBasicBlock(BasicBlock):\n",
    "    def __init__(self, inplanes, planes, stride=1, downsample=None, groups=1, base_width=64, dilation=1, norm_layer=None, reduction=16):\n",
    "        super(SEBasicBlock, self).__init__(inplanes, planes, stride, downsample, groups, base_width, dilation, norm_layer)\n",
    "\n",
    "        # SE Block 추가\n",
    "        self.se_block = SEBlock(planes, reduction)\n",
    "\n",
    "    def forward(self, x):\n",
    "        identity = x\n",
    "\n",
    "        out = self.conv1(x)\n",
    "        out = self.bn1(out)\n",
    "        out = self.relu(out)\n",
    "\n",
    "        out = self.conv2(out)\n",
    "        out = self.bn2(out)\n",
    "\n",
    "        # SE Block 적용\n",
    "        out = self.se_block(out)\n",
    "\n",
    "        if self.downsample is not None:\n",
    "            identity = self.downsample(x)\n",
    "\n",
    "        out += identity\n",
    "        out = self.relu(out)\n",
    "\n",
    "        return out\n",
    "\n",
    "\n",
    "def resnet18_with_se(pretrained=False, progress=True, num_classes=1000):\n",
    "    model = ResNet(SEBasicBlock, [2, 2, 2, 2], num_classes=num_classes)\n",
    "    if pretrained:\n",
    "        pretrained_weights_url = 'https://download.pytorch.org/models/resnet18-f37072fd.pth'\n",
    "        pretrained_dict = torch.hub.load_state_dict_from_url(pretrained_weights_url, progress=progress)\n",
    "\n",
    "        # 모델의 현재 가중치와 비교\n",
    "        model_dict = model.state_dict()\n",
    "\n",
    "        # FC 레이어 제외하고 매칭되는 가중치만 로드\n",
    "        pretrained_dict = {k: v for k, v in pretrained_dict.items() if k in model_dict and not k.startswith('fc')}\n",
    "        model_dict.update(pretrained_dict)\n",
    "        model.load_state_dict(model_dict)\n",
    "    return model\n",
    "\n",
    "\n",
    "# 4. 모델 생성 및 파인튜닝 설정\n",
    "model = resnet18_with_se(pretrained=True, num_classes=num_classes)\n",
    "\n",
    "# Feature Extractor로 사용하기 위해 파라미터 고정\n",
    "for param in model.parameters():\n",
    "    param.requires_grad = False\n",
    "\n",
    "# Fully Connected Layer 수정\n",
    "num_ftrs = model.fc.in_features\n",
    "model.fc = nn.Linear(num_ftrs, num_classes)\n",
    "\n",
    "# Fully Connected Layer만 학습 가능하도록 설정\n",
    "for param in model.fc.parameters():\n",
    "    param.requires_grad = True\n",
    "\n",
    "model = model.to(device)\n",
    "\n",
    "# 5. Optimizer와 Loss 설정\n",
    "params_to_update = [param for param in model.parameters() if param.requires_grad]\n",
    "optimizer = optim.Adam(params_to_update, lr=learning_rate)\n",
    "criterion = nn.CrossEntropyLoss()"
   ]
  },
  {
   "cell_type": "code",
   "execution_count": null,
   "metadata": {
    "colab": {
     "base_uri": "https://localhost:8080/",
     "height": 1000,
     "referenced_widgets": [
      "7f873852a077417e9e2d510c30ea738c",
      "259ceecb0cc3427d9cd76e1d167a40d6",
      "a967a02d574249969e60f9df8ac8d31a",
      "65158b016988439696cdc8f13fefe78f",
      "04a7d78ff0ad4f6a9ca834f40ef7e54d",
      "18edeb1159ee45d0bbb701233d5cfde6",
      "99ca95a0113b4b15845c27a42c07db10",
      "aadb2b05956b44b997816ccf63bae4e9",
      "2db36038f7c74cc38f38536e445e4e10",
      "699f6fc6d43746828a92d7c011682ca3",
      "d6c23b88842549869ee6043d1cf9aa43",
      "59b62fc6c3434a91a0269d7cb8f75700",
      "b4c772c58d224e76b7125922943557f2",
      "882c1e6a5e25430da050bfe97abc9e4f",
      "c6cc348f914c4a7b802ad2ef05a41257",
      "999b8ef509cd43f0afd0c6d46f9b0abb",
      "86da44ed9879480181edbbfe75b26723",
      "5187f0f63e464354a30925adb43c05ff",
      "153f6b04ad9243a3997c42ab5e7f991b",
      "3b99b4aa35dc48818081b93e9afb444f",
      "e4d8323300b9414586355f2bff4b5273",
      "8c9a75576539450b939fe9d4034793e0",
      "96c48adb45df467c945a674c4ba863b0",
      "61be1ee112b5410d887fec9e5774b0b2",
      "bc9addc54cf84681ad994f3f93e75bc1",
      "a85550ab6f6643988b171ee1ab39ff0e",
      "a65da8b23d1a4e9eaefbaa180c8bcc84",
      "f5dbb05e3b9c499f8e9412501aa732f4",
      "d637830cffe04551a1e7791772fe94cc",
      "97234aaebc1f4605a345f9c111d03daf",
      "c21831739f4d40a5a08afdb6374d0825",
      "9011980175ea435bb387e543142242ae",
      "31dcde419faa47a39f673bd065dff4bf",
      "b9418094793b4d61ad839d95f7e10343",
      "0ee187d5ac2a471e8bc5f80dafb8fbdd",
      "bd78efc414ee47609f11a3b0887c935d",
      "2d329775b19049efa7a606da000338bb",
      "9d84f0437912447e9efd46b56681c0f5",
      "4d4d9ca536014833a29cd09c139d27f6",
      "f7f556b903ce44d0917c2a90b5d4b5a6",
      "184b018723ea45f7acb140b54e8528f7",
      "f6c28b4981604a28af4625db400147e8",
      "782c3f1222684863801bc85ea740e53b",
      "9ee2a463de66449683a3fd0e41e2c85f",
      "ad46ade96f294a00a868a72a82c8f043",
      "52858cbc7a0b418ab5a59da25fba2bae",
      "f3bef1514d674c56b9e40ee35a990d7d",
      "4e16edbd3fe745abb4ca33755b51d54a",
      "17c6eef4208d47c7a963b35bbd0e89fc",
      "20daf31be96745d99a757eb30be4aeec",
      "c794132aca4e4d199f6006de4abbe0bc",
      "60243ec51389493fa6538f9c1912ff9f",
      "dca88d703dbc4e4589c4a1e38b18c9c8",
      "1fc628c6172a4ce6918922cb4d9b4a4c",
      "1481442da7e44f0898961d63ffc62b89",
      "d56f06f943444aab8fca1a70f6792132",
      "542cd2ddc05d4d3fb03873ad16c78816",
      "d207c456659741bd908bef0f1acdf8e3",
      "009ec71ee67047ba94dd7ca099846815",
      "dd087232b09e4cc8a9b50b9d70ba2907",
      "e2a6eeb8bc504fba9300f050092c2295",
      "f5905bb9106c4e97b2a52b4733279b43",
      "15386a8077464b93a29ff0c886575274",
      "32f2d1ae3e464b72a149533859ac25be",
      "fae61fcbfaab4bf3862dcdb64478f162",
      "511cc7fd332849c1a2899e90cef935ff",
      "6db6f8484e034530ab1f9e9aeebdf625",
      "a234e768ea7d41ad8fd5f24946e559c3",
      "ab4844def86c4781844ed0cdae2be817",
      "ce72aaa94d3f40d4a7a604bbe22036f5",
      "711e8f5139364d1a8ab71cc888085f40",
      "1c431f9ec5b74ab285e236d2fe48cab5",
      "7717ccb1673b485896747271e2583785",
      "73a6f5a7e59b41aeb7642d210eefd660",
      "b39d132e99794ccf963c656ec9598fa0",
      "12024805f05443b390ebe72bf93b803a",
      "bd722410bf9a4be0a4fdf18054bc4a84",
      "afb0ce8702cd4ea093806e7fac53ffa3",
      "7a874d553aa04ec68f3e0e1bc28c6822",
      "f2924dddb6684536a79ce047fcf38169",
      "597dc9b480354555a28868b03694b2c2",
      "d86f4a67a5a24d949bfdd1545724bd6e",
      "886726592ff64357ba482704dd32fc08",
      "7bcb7f35b47a4945b2a2441544b42bc0",
      "9da03c45a2034924b538e414ce38a3e1",
      "50c8f86f76ff4f4f87962fa08236c00d",
      "ffc4f2174f84477ba665d3414bab0369",
      "ba99e662ed2140f3b30df2efca74697a",
      "bbee68f228b0493fbb62868f361e3c9d",
      "a1adc043a3c5457fa7b584aa1ec4db0f",
      "716353e1e914470dad3b231b8b7e354b",
      "3481f52f095b445ba78f8b569cbaf5ce",
      "8099b7e4eca34e55a87bec4354bd32df",
      "f84d86a65f98437088fdaa8d7b6dbb35",
      "21d5e9da7eb14f558ff1d6f156c720c3",
      "0a6f5963f8464bc9a83f841e32c492f6",
      "9a479402c9894839bca2359849caa38b",
      "6442565efde44d99ab2f4345dc411d93",
      "9c2548e6d1da4c3d8b06e7e6c576254e",
      "8caf1c1e42384d5b98dbc146d1378e1b",
      "37235f44076d478a9d3de0f2ac500207",
      "1e78934298c443afb1ee463d82964fa2",
      "8e76def0bd9b4c99999086938ae700ff",
      "4744b24ef17d43e6a3f78e7341b1a544",
      "e82531907b7245fbbb68e54a6bf984c0",
      "623edef675f64f18841757024b980829",
      "5034e0f04e0b4039bf9b476c403dec01",
      "ba6c03e955494d4b9beda4f5f56a6cbe",
      "c097c89571a14f20997fa32a28ada08c",
      "ace5f5c5608c4d74bb6bf68c93e83ecb",
      "176c66cf11fa4d988f5024456604647a",
      "7074547c6a7e4c5895436f3880dfbf59",
      "26788dbe40c44f5e9423fa58f71c5099",
      "5d2aa5819dc44cb284130e2c02e03e34",
      "6a34503480cb4cce9039a796a25abff9",
      "c2dff4273d8f4e60a0c985435a9144fe",
      "f7f028c6c1e74fdea2798d0c6a418f75",
      "caabe2b7cfc14d1792bd108fddc44058",
      "7252a38ec1134774930b39717bf09670",
      "7139c5ff1e6b4ea8b974e06a14b656ba",
      "02261f108fb8426e882e4554adab6b23",
      "35c71dfab84a4380afce83289a8b291b",
      "077c92481e0447fc8b55a1f418c534e5",
      "259931c9eab24b68bcb8650fb49d357d",
      "7ec2ea7ccc464bbc9dba8230d370a004",
      "e8dabaed75c344c48d28ea9678e789d3",
      "bbc5bf7c07ec4e40b4e0396ab3dc0a66",
      "75a820961c704815a6f65fd660932d3d",
      "770086c740ca4fb8958a2a2e50faf56e",
      "d968df17642f4ec8ad88e3077af1a32d",
      "733ef5f5d8ba42698c43c43c2ca1ef37",
      "123894e2e38c46ef87a3581825d6cc7d",
      "92c5c34b0d5d44cf98f7aaefa3b22142",
      "f5bc1e97b00f47ea9aec6553e4c6ab12",
      "2cea5e44e79d489db57520bb139518ba",
      "4359826241aa451088682e40f28c7015",
      "baf876dba8b840dfa100628b4388654e",
      "49b6dfd828384f0ab805fe59468679e2",
      "b437db71f9e7495aba355f0cf3b93ed6",
      "d69ce8f60e1845e4a968487877774f11",
      "9414503598294a429914ddfb55fb2013",
      "e7359758600b4637aee6b020d8f5cb15",
      "aa10bc6f25884125be29fba999888c0e",
      "18f42831ed154459a75c9a4a5175d5e5",
      "fe8663dec74547249162b6d52bdd0d93",
      "ae3124b204304844a600df9b90938175",
      "45141db519974e739665dda312d92cc7",
      "1eeb54e17be94109a51f654fd0cd777f",
      "1a48cbe82fc543299077b464dd235934",
      "e59f9dd2547046c0af879e66ba64ab4b",
      "414b5f0f011345c3b276b7f764ea8469",
      "1293ba98b9ce4e37af2d5e51ae1c448a",
      "d9ab09eabe294df482621f93c8563912",
      "9c545a4d8754408a8868c19c6b7feefa",
      "917a65c74cce45d4bc853b751771b516",
      "2207da00e33d44e4b932ed1b63aed197",
      "2cd6d9832743480e9cc745bad426a52c",
      "7467692680ce49b5b3ff221296b0ff97",
      "3fe01b9789d4457c86b36673d28cb453",
      "5e335a09d6bb4174a4dacb424649583a",
      "651a23177f584f44b2ca05218f48c483",
      "caaf18162e5f4be1b4e45e66e39367c2",
      "c6f1d9ef8e14494c85db08ed0f31a2f7",
      "9eaef4b5c29a44098b221c6893b16d4e",
      "49daaad0ccf544ab9ebfbaabeb215154",
      "01f9e6777a014aa596869157446a8ff1",
      "7d5d2e3654334bc885421495e08fa2c8",
      "99602cb16ad54f38aa3c87b7ffb81ae3",
      "c5efcb32e38a4713a82390bc8a7de727",
      "05abb3dc45da4adb9be02b4dd62482fd",
      "151f8b51473c4e748672131d4e2ab073",
      "f56e3ac3e52c43a9b3b3ef56b3ec45b6",
      "d553c7ab372f4c959d6e71367f40cf6f",
      "905ff62a2efb4b94a4fd7b7bdc3b4243",
      "73856b3eb5d2475d9b845446394b9034",
      "6a34c3e73dd84f07ab678b7bb9048734",
      "6a346366f8004079a566709fca172e68",
      "dfa316c61c90451fbaf07815f9a4184e",
      "8b2a926df34f4becbf9d99b672a4e067",
      "d906a746b24348a9bbdc22a6a521cfa8",
      "7e1bed85a47c4f258b24169b55f680ed",
      "97b47ed6f2d0465dbf1690ac3b277091",
      "bd78fc51ed5244b38e6570c332aa9fc9",
      "c169989d79364ca782f02afeaf11baf9",
      "e4a022c30ce346df913475bfbddff04f",
      "b287d9a8b3e9406cb972b1fe7440c6cc",
      "3e8a3163971b48bf875d2787687aad2d",
      "f8239a81381e44279dc3ccf7e4438df2",
      "caaa28e9fae74b708263ef065e1e5326",
      "da967d4a8ce1459ea75d8001a9a10d7a",
      "76d3d11a17674d1c8c358bf83a5ecdee",
      "7d6213b197e445dfa59785f55ede0338",
      "badfc94a631f405ebd8d183b357a0145",
      "d5ab846a93e843e682701b3ae34bbaed",
      "790a631147c84619bed90f2556da80a5",
      "12f8903c50754bbcaa28126b2995bb1d",
      "45e1f3d82c1c4710a97adb05be32157f",
      "158440328dde4f16ad89c9b654a4ed16",
      "d38afb93951843ad870d62fd579e97ee",
      "37e773096cba42339591efb6c6e9034c",
      "8c9538da11f0449d90e8a8cb1dde6765",
      "f9bb4d6c15dd4a1aafa22c149a057a65",
      "51a8841a15fb46f39d773de7395e68c5",
      "de06cd7e7fab493d975a3738737383b5",
      "093838c91ec144b7908f94c5ae3ec2f4",
      "9afb592516e742539bca54f548c39811",
      "cf72114e982845e2a84e16b41cdfbe95",
      "075d79c271e846d8823f68cd8bbb58a9",
      "10da593ce3bd4031bdf364b3bd696225",
      "4b2908063d1043d6bedcd92c4bc657ef",
      "a767d78cc54841e981bb2ae1d724da78",
      "0d88d0bde5c049cdaa9c703124c9bc80",
      "3ca7714eceae4c75a6225f09e302bd26",
      "2f078ee8897440e6b9dd77fd6f633f1a",
      "96d1ddf5635f498bb86e7ce4c99e0acc",
      "c886f8ec9a564151984490001f676abe",
      "db0ee2ac8ee44fc9abbcf00ba99706a0",
      "4097e255bd3843e5bcda74fb401076e1",
      "ca5a4796bdcf46f8a06e3535fd97aef4",
      "bccebbd90b7d4ee39aac0ddecca3161e",
      "9625e3958790456b99b645363d7e3dc6",
      "a0ea89b419364d8696c68634dfc37284",
      "e98172d94d82409c93a5dae1f09956bb",
      "8d6e70a75c7c45b597636b98e7fe0538",
      "1a784da62405441cbd692d91e4a63b0d",
      "527803ee416140fb869ea0d636722ac0",
      "23a1d310a1224c7cab70221467834dcc",
      "8309b79efbe9431e9ba48f43fcb63a80",
      "acd9b825788f4555b962ede6dc51ffd0",
      "d367c97f71864e76ad306a8fed97ec55",
      "e5cd368205244d0fac139540afc09ecc",
      "d7d6887489f84e71b86e77c33760dbd6",
      "e204e77ea6f045be84d69ac0c5b4383c",
      "b9f3175cefe64893b0ffe066cbf40b41",
      "ebfc08585c5c45479ddf23496216f0fb",
      "712f5334b6f642838acbed1b14130b98",
      "57795decaba94224886f5af23dc4205f",
      "8e6bd361cf3545f68c67974ea3110cdf",
      "2e23e103ced24f63be5575e604353c91",
      "999974c620334ae780e331bb1cfa39a9",
      "f68922762d77400a832ac6a27f456ead",
      "20a0d79522d9443898b287419b377cb0",
      "d10ab6b43eff431f9970bfd7aa127c5a",
      "e49629aa130d4aa19777dc7ef285d678",
      "f16681985ef742b8b88ebc4bc8a7e44b",
      "f401355d262840a1b8f2537f414fd313",
      "2dde34be883c478a958e6c30804e383d",
      "911e2b03e4e34668a3cb02dc79d7c810",
      "711fc8368a5747d49009e4046045a3f2",
      "d6be7659489542748b3ab6ca9be7b6da",
      "9ef0947b32c148b5bb26463115fcc4ad",
      "5cf92d9e0dc046cab6040b0bfc06ed4e",
      "78e40ef894d546e28e8bce85d8912537",
      "9bededa4ddb6464d829c8f84ad1485c6",
      "282c974d6e904866a0cee44ba93596cc",
      "63c330e2945a410c8385e1c7c3636555",
      "d51809ef12fd49fd937e2a5cb6e2e67e",
      "5a9d9c4d13bd439899f5fa2544f291ce",
      "a6f9b2a19ca1484ba6c2d208c079664d",
      "b04fb67735dd43b68edfd567127a1875",
      "46c78387a423459394d1780b68a971a9",
      "c9cc408a805142a4a8eb4cef4c296a42",
      "0202fa1e28e647fb8d0f49078866d01e",
      "fc405daeaf5948aab4373052d79ca83c",
      "ac995b866ff548e0b40b96bed35aedae",
      "3d243593258e425db8af89bee2d9f1fc",
      "a4120239a221472586925bde81fab5b5",
      "621276ba32e249a6adbc92adf525a58f",
      "53e8862bdc284af4a44d7d2d6cb31054",
      "e5e4e07f3d234a2e824316cded87c1c7",
      "2ccbe2cb90544a6db931d710917e7b28",
      "f43f674dc40340d1800c552889dd283a",
      "7b89a750540a4d41b9f8f909f47f2e28",
      "d326474b3e3a47edbfc6d843ca58457c",
      "3809bb87a8b344a8b5742fdc510dcc7f",
      "0b9d1e96953e48b4891948687aa9849a",
      "44357a79a1054eba8226d863924ea563",
      "c3fca86c5c4243e7b667497509e57879",
      "56cfdd8e2f9b4bd5bd91cbf175ea0f2c",
      "749e0f3dc9324940a64298870668256c",
      "f0148ebfae41495ba1c48fede9ea4568",
      "0228bca98cb74438b4fd409d24994c8a",
      "75b6bbf6382449969eda59bb851bddeb",
      "45af45908d5e4cdd9af9f7e56bba1856",
      "7ab0f439409e4f3ca7c8a2024945744e",
      "26817039e49d4434a79d4e4ff67bffa1",
      "ede92ff4633e4c3f9dfb4faac67c342e",
      "bb925494f308473fbb584f7373b827d5",
      "bfda85dd11c84ade82dbcdf1efab242c",
      "9a94c782a0174c209e837d29f2c8d314",
      "f91b8f54ef61482bb67d04f4768af2d4",
      "55a6db168bb94d819a2a97f2b3d2fb36",
      "64313003b000456690cbd93f43912405",
      "1eefc303385a474a9f7f51931f8da096",
      "0301e4612ce04a51b15cb7ba7932bc1b",
      "7392846f95b2421a93db549645953714",
      "fe8cf371da754604a9d91cbe36f59e8c",
      "2b398c1c30f64575910b39671223b9a6",
      "b52a1e0401454947946682e893d91ff9",
      "0017da1f618f4cc9a36d647b2eecccfe",
      "5cdfd66b23204888aea9c1eef5963b2d",
      "3e0762802a37432ca351acbc14adb3c4",
      "f4986fe3e4324432a518f996e2e7d0e6",
      "7d7a9a64762f489fb85f07d57894f05e",
      "9ec37bc2076242ce93d60d277baae04b",
      "7bd9f8c5ab0740278785deda34270fe5",
      "0b80a242d7b8425eae7f0d546ecfa74d",
      "ca67c3a11e214c13963e4955cd65a120",
      "1133e9e038fb4358bf54ab3e92577202",
      "5733c771dcef4eda9768d025249cf42d",
      "700ad1772f8a4630a4f6611a22efcfbb",
      "846ba2edcfee4bfca295f463030b9499",
      "e85c482103a84c0ead73a5e573c7aede",
      "b5252f12ec654d98a9e8e4d4c84a064d",
      "24556b56209648c68c957ef5346da0c2",
      "60894dea87cd444d856e81d56acae521",
      "b200c92fa8d148fba1e7134a113c58bb",
      "2e2e7b285dfb4152a08c4803762253a4",
      "5fa7f610188942148831d0af897320b8",
      "7a52873784274976993d0ecf6bc9dcc5",
      "b35f1aafbf1848d3be8e98629a19bb71",
      "e435b1c6babc41ee96c7051de774d2a1",
      "4e2ee9e9e87248f8914c77c68ad72b91",
      "273c188cf0074949aa66f2dfa3d6fd66",
      "cae3863875ef4afc9b748e66c2d0fea5",
      "9af442a7df044e67bbdd6d02e2e9e50c",
      "c1cc832f86034111b1a09935235a4af3",
      "8b0d99b2acfe452cb937f0bb70752358",
      "eb6e7f17104f4295bb4d0e089e4b4eb0",
      "b45ecb6b4b39458e9012b837e2b6479e",
      "5061bf3c462b46afa74fd81a71a880a7",
      "ca0eedfb63fe4ee8a97d9c21f0f7b676",
      "964d9ec16716455ba09833f9c103463a",
      "393895f4bbc7401f8e2e6df20bb8473f",
      "d3d80b5688644943ad5c55c25bfd65f9",
      "a725b0b10fa44214afbbc84d34caa23d",
      "77f921a7a25748829ef291cd9e9c57dc",
      "a190257987ca4efaabf9f60aad713b0a",
      "2ab8adc7b4e5495a84e14f0518bfb3df",
      "8b2f012ed17e4c2692bb603058dca338",
      "4190d345ae7148ddb5347525468cc038",
      "7e107ec51c0b4124b01c7124c15df7ef",
      "98bca96c40eb4964b7b961c48ce76c05",
      "6f6551f6c2894d9c83927279f2bf1d3c",
      "2098c68e0b854e8493a3d92708947417",
      "af45b0823cb24602b4cf8210271c4a7e",
      "556d81bf72b14c09a53c681bd7db73ab",
      "7b2cab930f004f8b9120cc051cd86629",
      "d64c4eff985c4a088456fd243ffbcdcb",
      "4077725fb1b7470a9d183a334c88eeca",
      "c696276b10354a62aec5d1d646ff2ab8",
      "2dd85e7d74824ff8baa011acc10b26ef",
      "55cb791bc5a647c39cbdd04ba875cfee",
      "d02480fc355d41b6a0fa340465057124",
      "d8d3c87b35434d9682b26ba68e1deb3c",
      "f0a712f5b1254e5cb17afb036a720cb6",
      "0539cfb5deb5485a8adc4a1ce532ef59",
      "12400802a58942cdab2c8b046f44a480",
      "f7584270005844adb76088b161c534b6",
      "02074b5bd36a4eae9fd5ba41f6035f7f",
      "c6783f93aa6a4be7afb912b06517f9e2",
      "3da4e9f1c77d4a0ab3a397b3999f6385",
      "5fa54e1cefdf4c2eb3209520ab975924",
      "904e4c15abfc4888b1474bcf1c341060",
      "ab12c4912c95420a8c868acde78b58ce",
      "53d014487d0f4a229961d8d345e0c99e",
      "3b11023992d34092a9f9e88f852e08fc",
      "b8eed7007a10413e91e04761a32a5947",
      "e92b532036754ae7aa6f48add95f29b0",
      "f9343825fc88411eaed13cf13778337e",
      "aa1f15352e53458d89723df5c30a7b70",
      "ce0443400bba4fbe8dd069094eab11c7",
      "d453ffe60f0c4f4fa5d7962e3ac472aa",
      "63216076996a4e5a8eb145ac9985a50c",
      "cc9b30baca314785bdd21e017d55f067",
      "49578bce82b4494dbaba2e15902ec76b",
      "07d7fcce181644a0810485718b4252ce",
      "12d6b35dd778415cb6967186338457fb",
      "06f7f482bff54c718f8140885435141a",
      "199f87a79f034001bff7aa168e8dcabb",
      "e3b7b0e0c0314f38bbe1ae124f7f5e36",
      "ffe5f3ded8864b069a5390ca697960b9",
      "1565c979750b429d81e12558aa6ff623",
      "e8042b7d57fc485584ae7ffeb373d546",
      "7def90b499144f599a1a26a6f2d87bde",
      "407cde84d55a45be90835c2174156a11",
      "e2d3eb8aacc14369bd2c07e1c037d62a",
      "63410f8b35814870ae156a5e42ee4ccd",
      "bd53cc5fe7424d359337870ef55c3097",
      "3b7c1a065767473b82d75821cea96d0d",
      "2a22e3ca08e74883bf925a9e1ae3ac26",
      "6fe0386a8e1341b580280378ff887575",
      "45b4d1a790084e1c9f80db426df45fe7",
      "d723d043f8bc4631a67add9c33503e35",
      "fefab3239b75489a8ab3db5cc95fa1b1",
      "39c7401621214d1dba379091857b207b",
      "74b233d119a544ee816723a5384103f9",
      "4f5722f88ef745cbbce88ae4afd679f3",
      "4f62620f116f4be99051f577b6ee0ba2",
      "a5924d1e82aa4f2191da724306b23425",
      "d05bd990de5d4538b5def8dab520c020",
      "74c6e33d277047e2b2a59a91bb7dc01f",
      "a8aa1c2703fc42f086031952b54d1d4e",
      "19a2b07161874d2bac4d024732b73bf2",
      "48a236d4f4644ec2812e56102f597d78",
      "83192720bbb74196945db0f5ece9e09f",
      "1a8c73ba8b7f4a4cbc2b1ee8a8571286",
      "175ff8a23afb445cbd96af037e4f131b",
      "01d15414096049fca22ca97b45afbf55",
      "26e1142abc294cae90c04d8e06aa8dc2",
      "5f2c3bb138e649aa96e802a3e04b36f8",
      "17a541de60f9418a9b6d20f4ea3d2cde",
      "b8a76669ad854161aa29ea37436302da",
      "a52fbe73cfa54e7e8eefd5f0bff79760",
      "0e26a6c81a4c4736a8b29d7edb93cbd7",
      "d282fc3acd5b4d4a84c01dcfdc51e389",
      "c415f62a2976444ca3c710796a426189",
      "1951b53e708f4e8cabfb48fc0892225f",
      "1b158e55cd844e74b10fc47361418428",
      "41e49c19c2b64ace83753a31c8f25e8e",
      "695223ceee4446b2bfe7309ec4d44dfa",
      "7c6b0f5e405a4e21882757cef34b5f15",
      "76aa1563e65847a6be5329f2397da3f6",
      "42ac99d297394dc598048fdf1b417704",
      "6620cd28cd1e4fb9851e8f3e4ac92904",
      "862fd9a17109449cbe1e03911b46480b",
      "09d2eb3df8e34fbea759acc2d4931a36",
      "0d34cbd7d1fb4c1c9fb4fdb07b1e134b",
      "effc097a9c2a4d19ad7555a0087654fd",
      "91e585f8f84048169fc6038a9accdfb5",
      "b1b4eef476b04d42a1e3e32bfe26eace",
      "0ed93aff0ee841dc945382848e0b5382",
      "0ddab4d749fb41a4af3dba6fed5a2b32",
      "877a813cc71c47b28515ff3a84fb465b",
      "a1e9348cbe0e4fa6a26df419cfa7c61f",
      "e5e90e606b994229a505b89a45c7e115",
      "4d49bc6ecf3f4a00a63aa09e9b371061",
      "55d1a577c5d7405da04702c459efc2ee",
      "58bf771546554edd8e30d19f14d0e8c4",
      "ab5e21bbeb9246cda7fdb320522ea1cb",
      "7a07e186bd2b4cb3905b9955a0ee67f8",
      "97a863ab0a6a474e8ae8fd35a17ac520",
      "7d730d989190443f8fcf28950a072554",
      "f0f4d659b8934b13999b36b5dc915767",
      "eeece78f06834de19266af9473685562",
      "75ec1d408656429ab083471af716df80",
      "37b5066545464a4bad0e2728ad9d10e5",
      "60f83c9f38484653816d16e6397dc310",
      "361034c1b07a41fc834ad3ac72d96de1",
      "3d1020990e074c7196142124a0495979",
      "8ed17105a6684faa9d0414995bbc8750",
      "04086d0fba324d48969359fa71fb7af2",
      "2c00f68cef794602b1f88d2fc19d2f85",
      "3c5acf83ebaa4401af81c1f2e15f1198",
      "931a33db3a1b490c8bd7ce1ad65e05b7",
      "cc9a927c588244e18629c7f9ad13604b",
      "14a5edf541634bf096f1acbe28e4d15f",
      "0f674f585c88463d8d33368dfa6c117a",
      "5a5f4270f3f64f5a8996cbc5f5410e45",
      "01cd1f349f9f4f4e8bb2e95b84467ad8",
      "8339822c7df74af890be6ae41c5facff",
      "25bf454aad9c42598eba79ef9e76d88a",
      "425b1c81a7b6429c9928521ba40a1967",
      "b9cd393fd2234af8998ec1cf1609b6fc",
      "59ab4ac9244c4de49fe8fe8de73afbde",
      "3d39faf439f445528194e45d4385a3e7",
      "a944eefc73c643f990db1852455d24c9",
      "fbed6997f3694d8bb17873fc2d0a0b47",
      "7e4588913f504deca6f76ae1160622cf",
      "27064e4372df4323b0133675ba7c0d10",
      "58162fdd89394436a695dcbc77452467",
      "f6c5b171303a4bfdb635f8b49df61ed0",
      "9755f47334cc436e8faf04f2c011f169",
      "edafeba96db244fd91fe19965e21a941",
      "a9dbd887c33f44ef806f002c49d6563d",
      "dd23449bd6504d33bac171db58ce819d",
      "abc5608890d441baa7dd906f7016a39f",
      "aa2bedd7dfb6439b88bbf7d1dea5e304",
      "b8c235bf2a454f58b7e187cb4c6425bb",
      "09b8562181fb4885a9e0363ca8e85279",
      "27b704285cba4f6d908cdf952260f669",
      "27d52088a52b4872ab9cc47b86f33c61",
      "b1fafd8311324754ba5073dd541c0c3e",
      "af12e68c5b5d494cb2b7cb6d13538e42",
      "a0748b05351f4dad89c5709550b0971b",
      "0d7ff2ce0d984f32a7abbd9e49d9939b",
      "c88165003ce84a988b6021cda40ca709",
      "d7a45dadb61146fdb74963102fbcf0b2",
      "dd8bd0a62d9e45898e7eb6095dd3df9b",
      "8a97c289a31e4938bb4ec8be087e15cd",
      "7dce2898be6b475d907c16a0f2db9e73",
      "c7cdfb255e0e46e7b84fb74622b5d717",
      "cca02e9afce749a3a2170726f95e7466",
      "498faa49033a4e56bd303ea87e3c44b9",
      "e08cb91b77524131b5751f0026702da1",
      "972f88cc361f4bbba75b266b0d2e9849",
      "78e77048bcd34212a0c88493eed928a9",
      "e321e4cba41447339ca64db8558003f9",
      "7974627d75ab4f06975095c64e60ca15",
      "723be559c7c44fbeb6ac5a4aa7fcc9d1",
      "018b14033f6a43c6b114409e36a39391",
      "c9890715a3014414a0bb6ecc297fc7a1",
      "b702a74ca6dd434192e080d5799ad1ab",
      "6eaf3ca8df6d41d0b7357bc51a4f75a6",
      "0529c0f187634c1caa5f675aede36935",
      "124956feaff043b39b48672ee00bd13d",
      "de70fc46bca946d5850ffe9be149b01a",
      "968a0818e6a54ace9e0aecdc926c702e",
      "5c9319cf14b5476393cc2942ec7e5295",
      "15d72705e64844869bf59e8c4bc77878",
      "02d7a842290f4d5d9b3acea06b1c55dc",
      "a606727ebf66483cbf9919640d27a19d",
      "0bbaaf0463fa4e38b201b1385c03ed7e",
      "f7c68bc0e25046ec99119937cafca5ac",
      "4e09e119105545b485ed4d922eea8b2f",
      "9a0f943901fe4fe5ae01e7a9b8d58a81",
      "e1322c7973bd49c58e64a1a2901f39aa",
      "6e80873754d44df2945e59783daa2aef",
      "6a8ccc69909943cea0f565addbcd904b",
      "1481864a5416436e854e314cffe7f71d",
      "65b090b7f80540d4b00de910995136a4",
      "3cf863f3f67c4471ae6e6b084044b070",
      "0229ff0863ea4cb5918cea8434f15681",
      "1aa5775a90514ec3bbcb1f586ce4bf1c",
      "013de026cef041e686a1bec9c6fd990e",
      "972885f9ca7c4bccaa1a8309aa6ecac6",
      "8acdbc7fa3994e069b8737bb2174438e",
      "2173e3c65d5443d7953df5c363f600c3",
      "903c1399884d4364afbdef58a956d36b",
      "94018c6a2acd467ab3fea884bd726dee",
      "d91c591558d04f7d99e8a166cca98907",
      "8a7ce5e6721d4641a70e189432adabbe",
      "4471d372a417414f8d7527b64420b00d",
      "0bd1ba5d70364af9a5b6b40c314023f7",
      "5c799e56b87d4d35b849f54be8ac5be8",
      "48a453001a6c48ecbb35cb57ff0f238f",
      "42f8bf716c6f42e991d5d8a8bd7cebab",
      "f2708b7e3ff24b67b9c169c67694557d",
      "163d467f72d4498d9191194743e9b448",
      "2b1e1382814f4f20b12110af7712f875",
      "0ce72cadb553400b9b4bbc738735df4a",
      "b29173a992d04a6fb55ac1d7c1bb4f9c",
      "d5f8ab2ccca347339a56a833e3c67171",
      "2dc2675de7fb49999a5612db879fa5c9",
      "4e5a64e4975c4c4695a9a058859a2fde",
      "e447a40312964be9b5368b378c73e4fc",
      "07bd64ded4b94ab69fc1f38c3d10ff6e",
      "ef8c44e5c03c4bcc87ac153c3e687194",
      "ea13d4e05b8b4fca9a5fccc6915211d1",
      "ca755d5b0df24aefb7f95f82115f3439",
      "27e7d208b50d4ac1a73cc261a901f47d",
      "b9134f84129640368a6460b316415c0b",
      "393e59b2846f4bf0a580d85387aa4c24",
      "ed354709435b4d5c9c3868967a9dc48f",
      "1e6f33dc8e1b46658b29c878af22ecbc",
      "8926b8fa2ff34363a4942ae08ffd1ae5",
      "2413c461460f44c0abcdfeac82c27cf8",
      "f83d5d7528634ad2a4898605e9b2d569",
      "ebd711098f814ea39715b2276ce8b43d",
      "ee58167157c94f85968d0aa09ff31268",
      "caa3da3a5989443ea8bffa784e494d83",
      "ec76063b43bc493f86f3a9cfe4bfe148",
      "646d5c0a303142bd87b2db3bbd875505",
      "e6fc22dca8f646e388053feaef085f96",
      "af74b8c3d90f4175a74d275109adeb9b",
      "5f5d57bd9a4f4051932aa768240a0a01",
      "a24ca2a7311b49f3b18d163aaba9f951",
      "ee209312bacb46ffba4177eaafde7ebd",
      "0ab80b509695467ab276e97bf3971207",
      "9f6e58545d5c4b59b6c3ce02b2088249",
      "9e0d8a39e15c4591a593658702309553",
      "23c943c1cd4645e0862231305ee0bf62",
      "281d1b43c0114713bb84542ff668558f",
      "cb6b55e2be6742bcbdc51d9aa1970441",
      "3a0c7a4d779f467890ea1e35cd69668b",
      "ecbd179bf6ba4a59825b41135d763496",
      "53f2e16e3df94ef08145bfb96a767433",
      "b1adc765a7834b65a3d657cf8891364e",
      "32d7870a6cab40139b7c0acc9ea29b53",
      "9b00d5e02bf74f41b4a9fee117cbbfbe",
      "bad81e3f52e74854b1bfbdd41f647604",
      "c025a889f4824645aecaa3c584cf0f30",
      "e46d38bb243a464ca5f6fda19dbfc009",
      "78febd958c0148f49eaff85fff40f115",
      "b7680076d147416d97cae938b48acc62",
      "df4453cf648246cb840f7c8f101b0fb8",
      "79117d449a4d44c1999d1b62ba1ef836",
      "2b4280959b1d4ccbb2bc0d577508c657",
      "118171a3056345f5827e12887f40e1f5",
      "29af81953d214736929ae71345289e41",
      "c7ea95d02d0445558475664107182a17",
      "92601532cda2482da9ca07d0aa6bc186",
      "aab7c0e708234e7b9bacb77b445e7983",
      "5e929f7d52cd4d3cb9c4b847f989ad9c",
      "3f5f48485964477c8d546fd6c9daf431",
      "6702259a9dc843ed91c0cf84713f5aa3",
      "97807300657d445b95baaea2585befee",
      "97c0f1dbb4fd42fcbf3929be6fd052d9",
      "dec0ad3371984f17b741991eec5b3468",
      "ec000290f36f46b08e99b514f6f69677",
      "ebbc5760ab234c9eafb822def23cc1c7",
      "61103e3aee144fd38192b7ad8a214d78",
      "dcff3515403445f4a1ab03d5fab824d7",
      "0f93d860240341248694dfaa6728d6ad",
      "8cba052a11a644e8a143ca559713e913",
      "57f8347f74d148c48ccd28a3cdc16865",
      "266b7bd9293746bab46d688b201d819a",
      "9710c24b62d94678adde5808bdae526c",
      "62c1aa2a17e348218a780b9fd0818325",
      "0ff6bded2b5a4bcf895d44f15998151b",
      "16f41b1ff2d94575a86e0af4670ab1b7",
      "ce58accaca62483a9c465dcbdc4168b8",
      "d99e6e5581c1419bb857430bf1de6c9e",
      "50e78e61e20948ccb748df6fedf641d7",
      "acd332c60e86420d91405ba2d5f785d4",
      "c861599e0a36445e9c7a5e7cae504f92",
      "6defb5b48f7c4fbabbddf980a078fe46",
      "d448ed06f61748069332c8bd323303e0",
      "e00fdf1f99284ea4bf77384b7d206858",
      "0ada00077e914bc0a3abecef839303f9",
      "9f129e41041c403f9c9c5ab12035fb90",
      "77cdcb1d59b84c5f940ec1ad1811027c",
      "fa40c1de32df4474b3f495455af2a57c",
      "b51ad6d1f48a4ff4a796041b37453214",
      "74ec76421fcc4579899d6a0cdd324460",
      "160316673c6b4ced9e829d1251061c88",
      "085c703e9eb94c0a9bc493ad0d82c963",
      "d9aedb1d3f7241fb854951c4f724cc17",
      "7a56dacd9a704b71b320c20e0375c3b6",
      "161299ee62534e1a9cc114f00c3100ee",
      "ee3c81f55e034ddaa4c2eff198da12e4",
      "1869e7268dbf4364a730049708562106",
      "0b9bf755ac1343f7b0bc089c228e63cd",
      "d5b789f2bc5643e78b996539e37cef8a",
      "ed7e6e014fbc4e109330dabd632309c8",
      "d6b653b1621a4575ac3a16d551cc50b8",
      "aee2428c5d664bd4a721543ebbcbeffc",
      "7c21f691808a46818b2e0f4dad4494e2",
      "f9fbfbc1dbba468ea69202509623505a",
      "04f0b90a788645a5b410d6346d81376d",
      "e691d3cc9ead4ff093b62d68ff172a73",
      "2a235ac6f16744a0b806e119a9e4f780",
      "9bd6af583c87485fb2003d7de00e6a94",
      "33da69c6ed32449dbe50e7b7a15b2025",
      "822500d2dc094f1299563696c8271c14",
      "de6f1314b7f6438393c091733d10c921",
      "e9de212d42474cae87d07b3bdfa41d84",
      "7e65af1ce2a24cf9925ad6902787de88",
      "891f337d640f4bae8c0ea00de6a48388",
      "e4187c8c1afb496789b7ab618bec6ca6",
      "ce876820e8e04c9388b5fedbd9c6c3b6",
      "656e2f976181446093d5af58833f91dc",
      "0f7979d8b2204af2bfbfcf33632e3181",
      "5ccf51bcb5ab426584e9de69821ec733",
      "6e9598c1627b41d685b2e003f582f62c",
      "4322f8f69cf246f099e70d0570622218",
      "9fa6b00c1292437495424322bb7cdb0c",
      "055ee48e6eda4f7ea9de20fe3d51c5a0",
      "e78c6bf2dcfe4e6d9866eb8df64617a6",
      "c05f258128e14ca3a2368dcf6b3b31b5",
      "88e88b16dce84eb790c9fe4a99149708",
      "7a952dff9bfd493a94e3af438642912e",
      "e1e5612a3d9d4ede8668d524c8caf439",
      "a6f59a4ff430477f85bb6b10886d6f12",
      "8e1c3f1b2a5840d3ab951f684529e77f",
      "3aa41de1b85b4c56952680320c294a87",
      "06ab57eac8214c04962f26f2e24f7560",
      "8425dd3a14a74853b2523222071581ff",
      "4ca7c4cf77784a899756bd225be86ef7",
      "0c794af9484c4ccf90c31806c4078967",
      "c6d56f34288b441d83b368fd02b4c06d",
      "4955c0829d654d8cb2aeb8f153b0b7d3",
      "a1dbfb49aeee42f284a07ec51b2b5b36",
      "895e3bdc49364b639fb02a1023740a43",
      "0766841468cf4dd7bf0d4af56eeb6338",
      "acb93c010f5c4d9aa8a0786c9a14bb07",
      "d71bc1377cf74a379ace290957a633db",
      "5bbee15973b740d3b820a8d08b8d1b5d",
      "eb7e39ade82442e5af1d04823f70eaca",
      "521ca250236e44d7bd97a18074e21ed6",
      "74112113d1c24d4288f5cf9427b2f392",
      "e9a4819a6dbc4179bd711fc05f20b125",
      "c6cccedbd55e413480f0ce432f71e388",
      "75a33cb89a964aa4aa2082fb27ccb399",
      "e64f8accf4b94a5fb059fd578e690b1e",
      "3ecb9129c65d4b2a81be68a3a2125859",
      "06d484e820434b52a37dbf77cc242106",
      "ef0328da59fb4b3590d661351e76810c",
      "8b6f8d3c375349aa9abdb11697b0e03b",
      "e26cefbe1e2b48c5987748160d8f5c51",
      "fffa309ffea14516b6b314facc264b9b",
      "7bfe906f05fe427d9f657470b370d366",
      "7d53b2bf18964ea7a1525ea6ed705d30",
      "807b901a0cc245e5b39603f8338879b9",
      "b612df831942420ea193b9562dfaf090",
      "d4cabab07e524f41af572d12a9ac04f2",
      "91d5c55d590741a38312d68fb7eb262b",
      "1bb65fd497704e589c614515e15dc8eb",
      "b3d08edeabdd4aaaa6c8365aa33d1864",
      "24f8a3330cdd4ad3873b368187dd7c04",
      "3eac36207ec24e81bd23384a612565e4",
      "a91c12954ca940e5bbf85d990fa01649",
      "6766e63894d44899a6e6752ffd037cba",
      "946399000f8b493893b1ec090332bbad",
      "8587eec607df49b8878b0626ea42d204",
      "26d3c25d421742789a13a9224303f76d",
      "2d5a8b663141429aa97fb9e72e3600fa",
      "499c208a8031441d99a919a83cb0a544",
      "4ee0033eb4d1413a9415ce822a9f482d",
      "c3388472e1534fac87dd468513c4d84b",
      "df0941813694401db88c7ceb73996b06",
      "bd653048eaf2453a8caf6a7abdec9a95",
      "71b20acb83c94341852554a0ac87b77c",
      "36d7baa7e3004d06962c935bf3793971",
      "bdb7f11d65a54a52a2a476bc3cc7d85d",
      "b0f5c510323841779ca1bc4c49b4d8f1",
      "a9a0732c713c4fceabe7297fd4bf4152",
      "a8a8450f62bc4a7796256ac8a342679f",
      "ad949e5d7c874a609ec4b77d867c2d5f",
      "6d2495599f264e4c9beb6a132ca10485",
      "63f530eb2bd948a3a7cf22f9a0fa7bad",
      "abbf13c534f94e6fbab8579e81214104",
      "c1b6daad4ca7446c9835abcecff75741",
      "2306a864207e4a06bbd3655c8c8faa62",
      "437035e48e984cb6bd0bf1a2236b1463",
      "52bc8a4150a04fa88965acdfe6c507d8",
      "9067e39bde1d4be990f4ee937a3e49c2",
      "efa23e4e612d487389c0b62512d7a337",
      "23d24c6543444789b5da0e6d474e5450",
      "ae11907e97984567bb0018236d05020c",
      "2ec7267e48734bb69502b97b9609a75e",
      "f38908c76d9a4438aa1c27a4dac973bf",
      "27c3a32d32e14a058ada070d1329d0f8",
      "2782e3c9eb6242fd825b49285c2aee1f",
      "629a03bd48c34a1b89c1999bb66db7b7",
      "6821fc4e793f49d096a4e4f79d50e8cc",
      "345675bd1b0047358c6b03552cbec3e4",
      "b90909cbe81c45fd97e35d1894f78808",
      "6696ff587da44af690466ea97fbdd037",
      "6b85b9caece547298026b58107f72273",
      "2faf7fa86fd6487a9533367e6652cd01",
      "12dc732626f948848fcf3e760c3a07ce",
      "97eac79280d44f61bc7f4a10b2dfd834",
      "97ecc4f2aef2495e89c5c52905caeb9a",
      "7969d84680224fd880fcadce6bbab2ec",
      "07e25fab02414acda632756f82439dfe",
      "f806bcddb8a54b5487485b6963d90a02",
      "6155baa6003a4cc8b02902593dc8a71f",
      "fa7ff0b0f9064f49b00ef35f91747689",
      "77d6f69ec058476eaa9dab69fdf0521c",
      "c3f993c77ca243ab93dc36c354181d38",
      "c1433e5d88a54bcea29a61ac6725a35b",
      "c333872edd3e4b4bb9e262ec30b84402",
      "2bfcadcdf7044d5c8fc20e50243573a2",
      "f5343c50c56b402bab4b5b7a84035c97",
      "548a35258c77494bae0e789066dfac34",
      "68a72bfc1dd44d4d8846621be5c246c8",
      "f5ef0646b0b5424c8505b98ce8cd09a4",
      "d277781277a44fdd8fd2df59e01573f1",
      "10aa6dcb1f43462eba4e52712af6d5e9",
      "64a08e2e4ba9433eb9f4c499039a803b",
      "acb73176409a4f888ed96b9ab20b7b4e",
      "5ec603e87788410fb584691ec39735a2",
      "dfa9c27cf513470dade143a5e65c6932",
      "cfec1c7232ce4574992f42e9f3e1eedf",
      "6f0f2160e243452a9207502d6174305d",
      "bc21900100194150b2d37146fecbcfa5",
      "58443d00ad31466cb98fa3bbe273cfdb",
      "02e90744173c4843bcdf609cb624d735",
      "9ca6ea7c67a84820b1250914850fb4b4",
      "5bc7909c112348fca95ea9718c7ec48d",
      "32e2f982daac49258540b672fcc45f63",
      "3e34d11acedb4e00bf16001f73f8e9ce",
      "fa6fd3832db94a1ea836ab62fdf432df",
      "2f0daebda388482e83ca14dd5075a581",
      "499cad93266d488d90f4a6cf970ee1af",
      "30d0f921fcff4d8cb58395876ba01aac",
      "2aa6e996121d4293ae6b6d8afec19ba9",
      "ea16999706614f1fbdab06fe800aba11",
      "a36e0577b4e644dba700d6c268c8867a",
      "64300ca5a1094bc1ae025ea18ab7cfb8",
      "c55b0af1ca0a43d98446ed132bb0e51d",
      "48adbb79cf784001b6221d991128749a",
      "79f4e9273ceb418da294e4df82b33cb2",
      "03503472ca5149a19d1115eb22aca423",
      "bab805acaa0e41e393537e6ce4d70aac",
      "f643c57472a245d890db1d657b02ee5c",
      "140b0130aa0c49f38bbee065dd10192b",
      "f2563d99d3214c20a877e9fadee5e168",
      "e8d262f65069403bb5ff631ed186f776",
      "66011ff6321d430ea2cd3ccc8a6dceb9",
      "448ed3d669864a5ca94a624dc1f62f1e",
      "aaea7728ffc84ec78b568f152e82847c",
      "e05c88c828ba46d18f5b43ad80e9d31b",
      "c1cad225ab9d49cbbc11dc531b609797",
      "769a8cba6f9048448bad37f08e2442ec",
      "6c9d861aa0a741ed9168dc33d876516c",
      "15858665ecf9469996bf77f198fae4a4",
      "e82d123a750a4ba8a1c1ce472d61081f",
      "a6e4bd7d5c43449db17422d5b9566202",
      "4ae08a570887414db76e5140ed7ec312",
      "a0cfff8a68954eeb98a8fccdf4864fad",
      "11f95cbb0a434ba1ae8e292e0bf8fc8b",
      "9f7c2556c9564e3aadd0d2adc9fc9ba9",
      "dcc68b4b5b5042518a65016432b81b1f",
      "2a833d1fa16f449e83efa238a36c8820",
      "900ed754b0a747338fece449be3f62b8",
      "a38acc6e92a14064b54b94ec2f2060b5",
      "5eeca287f6944ba3a576a4204b9a37ac",
      "8f8a6971b5834002bd97b8e306331a95",
      "f8c61adb983a458eabc1e6e097267491",
      "635ad008000747d2a4f87d2bcd009c44",
      "bf286f7fe4d34007bf6a33ee1dac4846",
      "22a46ea775f5412ebea98ea882b50004",
      "3c015b9e5b4d43c8b3359e68c21eed2f",
      "62eec84e965246308b754ceeac7f882a",
      "3342e1f134974619b4da9af4cf319d87",
      "b96ee2f2a8f74c29966ec8f87931a325",
      "52c48d1a91c742cf940efc08a50df87b",
      "ac7bc69f7a0c4f3fae9192d54e4d4c9d",
      "411d4123a258442882c763ec4e05dc95",
      "cc4ef89803df4a5b9f5d81887b9ee550",
      "48882bd8f23248f190d785dd34588e11",
      "4cf3d623038844fb95bb71842972d3f1",
      "f9e07445e80c4231a0d3e091227e8677",
      "9f56140c28a441808dc109ae4612c051",
      "bd4f73b886a9400bb672582ffbb4deea",
      "472ac6f741d94e43b7b9289db6361b0c",
      "1356bb30d68948fe8411b74e8550795f",
      "318ef5dfa79a4fe08141e993a1ffc0ee",
      "48817e435767401f9a7458f6fa4c1a35",
      "9d11067da02041d2ae3ad213603fb67c",
      "e5b855c7461c48f9ba4d9ed1ae32c6a7",
      "98e7819e98d14a13a515307212a63900",
      "229b236a813f4bd3b45281e695a57f7a",
      "e60a1b1000c3405bb795ff47ba70d870",
      "9412ff45d94e47a2a24cf24211c5e7ad",
      "0478526194d94628af020fc6dec0291d",
      "6aa0d20b987e40509e38ce60be82dfeb",
      "0804d5b223c44ee293353c18e74a0c49",
      "b0cde22128e34bbc83e971e9f5f16fe2",
      "47c3a458ebf54208804b53fbab937aa3",
      "2cf73a685f0f4e53b29d2a52737b67c8",
      "7b1a371d516c4922aae2319cf765404d",
      "2123a9a3020047618145f19ba4842c2e",
      "ccc7090978b944efbcbbe70af2c77c0b",
      "05d06db39bba47c1a87eebaed22a763e",
      "b1c5eb9c291a463dbe1d23facd2fcc51",
      "f15d867120ce4ee8a5847a9786bd3a4b",
      "69d4e6f6b94e472db58ba67770798ece",
      "1520e21757aa4b0fac4b33dcc497b319",
      "4347fc09b3884fc1b38968fdc2c2b747",
      "4df60cbaae414cb4ab6308d54911e422",
      "1236115eb2f64c0c8c9a26f37201bb58",
      "de42b1922eb74aa49a3f4d75ac91a15f",
      "655d72799ad043e8a13cf9a7c0d4d9ec",
      "1ee9ffc5ea274d59a1fb0f158774b702",
      "754996f633ae4193bdc5fa58136daec1",
      "57d622760e3d4e12807d051085dc9c05",
      "e06e25d3b8694e33847c0b143a1d7e77",
      "a48eb286398d44b5aff382ca835a1e81",
      "73612136a6014ba1bbd8d32f9f0f3651",
      "8827df40f3184ef69e2fee7496eba43c",
      "fd0c11f611a74065af21aca155ce7236",
      "4c9148555da9453ab04846c16b569e18",
      "f98d70e9e16040df83e781ae0d11e19b",
      "ca7841488221494c9bbd8fc185b3a761",
      "81b7029228f64b83a37e4a44c3988cac",
      "8ff21df6584544af91af3b9cc64389a4",
      "ee3d9c5b7e2a41289db32bb7b88dc81e",
      "309a9428ea0a4a409c986536fffb6353",
      "6f5cba7192824455992abcd42a528d3d",
      "f5fcef88aece405b82018ed8500544b8",
      "d267c8fae4be4efab114a587281708ba",
      "4ddba2c21ac74cff9436cfbc5a67a0fc",
      "742b33d095ef4f8b99b5a4d0271d3292",
      "b595d85e88fd417b99deac32724384cc",
      "7e45d39669a84476b1ee8423c2ad4771",
      "a3806955f7ee402ab8805230519e2caa",
      "c00c9e8fd2a742e68c77abf33aedd58f",
      "b2990ff04f6447dbb0e620dde6cf032c",
      "5e7f05d049a1496cb00f32418a84a709",
      "e4bc88ebf48b4a40b72c98f09243dd01",
      "fa8dcb828acb47669714a5cb6176a6b9",
      "da8ea8bcf3164ae5a7dfb8638d283ed8",
      "4e65a8b15f904e37b3d6135059c71c4e",
      "c2dc9b1f98134cdea0b314239707a8d4",
      "a41f6b660c054f67b8d573c836e910f8",
      "31ec4e5e28b142f583f01fd3170a5289",
      "f4d8bf5f18574f1c95b2b6eba2b828f2",
      "4cd7c00db6294e90a84bd47a8f7c79c0",
      "4e82f42a70b842d1b77855ca636d9423",
      "eb8e3ab9a4354136840f71ec889d4858",
      "fe368643d9534cbeb303fc7f7cfd40ca",
      "e267688a01614ba6b219f02589c67dc0",
      "5782594f32074627a9e3ebfc14be6d14",
      "1657171a45d24e409c68689ea8847023",
      "e4ba459042aa40f197b1d102191f58d7",
      "449144802a0c4ac4bba33e2f2fefebe2",
      "023745a834494a5db528c241d4af07b0",
      "66bf142c1b5948f89a9ad4c58d0423ea",
      "10273cceb8604b388555906fbb22a126",
      "61c389ebd7b04b1a8199ac461da9d5e8",
      "67122f2396ec492f92af4ebf1802501d",
      "748737a7f83445b5bdf48395f839c1a0",
      "19d63a5092f34c0d8f1e792f500eac9b",
      "9627126658af4b4ca3d1a6abd102d4f4",
      "7ce714b935d5427587b50ac14a41578a",
      "146ff6ae4b444115ae29908a07b197ce",
      "43266f624dd0428bab1dd979e1b2dfa0",
      "549fb1c578ef4703babc34e7c0d6dc33",
      "87e26d22696947b58f755268299f59d7",
      "584346b61e364871b64f8885e27f06bd",
      "c32d759c8ec342bda878d2eadeb36bde",
      "f027fe78e1a64cb69331570fdecf273f",
      "ecd75ad4f1814e5f810ef5a2d6a5b407",
      "9ba28f3f17154d85ad73bd2bdfa12cbc",
      "835137dd3d224550968a1be86ba2d958",
      "4df03036282f49f6a8f94b91a99c3df3",
      "0214c043787d4a4bb1a10347daea93e7",
      "e28754ad748e49b58e02bbd18b83cac5",
      "ba2ca63eb89044ee99bbfce519839a5c",
      "8dd9efd6d6364594a439e711ee8b0c42",
      "c5a239f1a5384807ae42557271816c3f",
      "273c095ed12145d295a2d1c8bd4fc1e6",
      "bbffaa2908c1453a952e2357c8d6e80d",
      "c489c49c49144c2ba520fecbc87d7772",
      "1187117a09ec4551926c743ed65af0bb",
      "0089210035d642109208fcb590c87f5b",
      "c189b61290e64ce89a834fe0587c5628",
      "bc53da3f558445b9a0d30f6013a0b20a",
      "0f47f42f64d346fcb40241bb2551c8fd",
      "5619273df8064d6882c2c6c96d2b82a7",
      "9188dc1050d541698c2f8544d98f875f",
      "791cdadac1684cfaa42cbebbbd2d8954",
      "33c709197ba8445da3ecf59f27e9b2b8",
      "f3040b1594ee4cfe9af3a9fb4b52cd72",
      "a1b0f9789be348f78070b8df1c67bdf8",
      "108b39efe3434cc1bb3cee6c699975e0",
      "a98fe49015724408a7f98d389e8ad313",
      "7aa2a8b190f64542bf7b5d8fa9963d4c",
      "1364bf01ad83448aa8ade062f9d86c86",
      "658ad2705bd74e4fabd16aad5eb9ff17",
      "41540a5eab844a9f98da33c0e2e7c583",
      "51b574f53dce4a6da28637724eda1c05",
      "52af3b1a10e44780898841e10d1289bf",
      "96eb4b35304a4841af49d3e5477e7087",
      "5c5c5e2de49e4eb7848a6d0104bb9258",
      "fa94814ad00d4f299ff1c5bbdc32644e",
      "f7d75a0ed6214193aabc3271eb281573",
      "607feaf6c5cb406882e879af1b82b577",
      "9565ddf01f364778983af6a925a5f932",
      "889bef9ca7b14a34ac529185900c20c8",
      "8093894147ac4275a78f5c9284aeee56",
      "079c130692af49169af77bfeeb65266f",
      "a08dd48de06e4531868ddabc59587bf1",
      "54f3f5bd409e4c73b22b3e2e243d07bc",
      "5e6721af02d345199e5e42988a400f85",
      "c29ad5da967e4538b4c5e1a72f7ce5be",
      "cab8e75331954ea08e401f4f07787a3a",
      "91bbed2d440a4279b6b5de010c82f51c",
      "fa2e8ae43d29413bb762604b14b5be1d",
      "8c385a4fe9c04fa1b64907dafced4dd1",
      "efa31d71e4a942d68bb4735771af3ff1",
      "56ddbcce50e94bbd9add79801650e836",
      "f040cad36388400b8dc766f6273f9a08",
      "7fcde364707c4335bf3ea5234f6a60a5",
      "0baeb1f4213c475abd7a882b5daa2e5a",
      "00197135d4114b10841f8b928a1c7f0d",
      "b9443060f03b441ab67bf65aebe97ea8",
      "d0728b4bee8744ab9b91d98088143e31",
      "c2eb5ad0de4e4a4b92cd6f82a9ae3224",
      "b0bc63722f6644d494e9fb0516fe2bb3",
      "984c41d4bccf4157928d3e67ab9c1d16",
      "d7f02f3777324dd8b6f6754570408830",
      "7aa8f6056bc147fcbf0722171f93d1cf",
      "a6d6d1da99584613a722b1b67d94c776",
      "e202bce393c245f1934e5981428e78c1",
      "a387284aebb6411eb47e1520043af09e",
      "c0c94106db9c4deebb6c9595c6e67155",
      "dbd2f4cd195a41d0950e6300cabb8982",
      "64884645f9fa40dca6370e84aeee2802",
      "26aee162587a45e29f08c7d53b859945",
      "c8a5e010d351455589df0a72f0fe124e",
      "31f9fcaba2c14ba893c3a0c00d943f72",
      "fcb51d25e99a49ffa89121445bfc2ecc",
      "8e8c8f6d518b4b659510b2a9aa7618f2",
      "2acd86b4eded442dba95764876e0938c",
      "bc69fffa56974a6a9b34cc10872d77e5",
      "1ea82193d40f462f88102191d7a1f443",
      "d4b5c8898b74490da223eeebfe1d759d",
      "48bbcff284a043bca3705228d4af822c",
      "a63805e292dc457086bdef4c990995d2",
      "37e57dd3d83d44c3bd4ff3df6738290d",
      "86bce01fa42048acae516785f7d1fa29",
      "f10a1719d3604760957f3d4cde1ca81a",
      "e6947610849c4b2bbf19ec710ccf2cc3",
      "ed1f1d1e0edc4262b4fc8758a895072d",
      "5571a9b2f0fa44f085bb595a5bce87de",
      "4ca72bf75ab447d1a93d533d24f880ee",
      "d978a7038e954551881f9eeab0477a60",
      "c66208d0a7104a129cb08bf47ba2df06",
      "33e61c72322342b985fd80f1e38a4ee8",
      "a532f3719c6f4ac2af74cbf3563783de",
      "200339bee7524d21849c630a7538bf1e",
      "59f1a6fb110541ef9b091d75c0d3b0d5",
      "c65fa5d33d6646249e7823f220910afa",
      "28c81cbe62ec48d0bec927eb83c98e33",
      "87483f92f79547269432c8f30198e26a",
      "c87f2a4abd5b4e6495f52376352ab551",
      "ef06a37a45f24c22a90af408e046d173",
      "ed26d0dd679e4858aaa58ff6535ad553",
      "bfdc283b8d5d4c9cb66666e1d09574f5",
      "7d30858ab0c4449d909ae72e5958ff4d",
      "1c45b34b37ab4865ba5a2a861cadcb9d",
      "022fbb82dfa142a1b9d9d95fe576576b",
      "fe1beecb9479407a8367bbcc78e29048",
      "dd618947fc6d463bbed253169d6a6923",
      "fca6529156054cb68bdf22212e0548d0",
      "213eaae3ef404b4cabbb129af52f9a99",
      "0b1768a5f33f4afe8f09cfc850015ecd",
      "c8c27009544d4e8ebe49efe5a4835e44",
      "3b9381e47d3c434081334ee6085bbd52",
      "0cf8cd9be0e44143b83688388e911e87",
      "a18c5680e9014591acf7effa6327fa12",
      "df7e1746c1e943dbaa6208cbaec71891",
      "2f0fba68acc44ce8a216f113e2457d71",
      "6efd5b97a5324c65826532366d127d91",
      "b2db9057fc6d47e4990375f06e3639b7",
      "2380686ecf024a2283ebc892809b2b26",
      "26a094ab5a224cf28ee85baa270446fa",
      "6fa7375d1aa24533bb94211c3d7d7fa9",
      "6a0f4e8dc9284d4883bf2e85451a5d8e",
      "77dad31dc90b4ebaac086b89a301b376",
      "f73739a63c6740c4b07f7249add47c31",
      "45e87cb0de7b4798b3dea5c656011177",
      "c955f4d4e4e2426cb7f9252123def89b",
      "2c41692ae527435eb1e5e961bd995f35",
      "187e533a221b4b039b8ba43fcaa388ca",
      "75ae43a5470a4e9199edc01364ededbe",
      "d6ac3ea0addc4983b0b8bb00b726a45b",
      "915f7778aee34255990e4b3c9f14781e",
      "48cfe80d5c424a1fb0edbcda43b4d9ee",
      "061769eb3da34147819658d6b79aabfd",
      "1719404fa5094fbabc3a6cee0bdffb4f",
      "44f2b00bd53e4092bb7029410ead805e",
      "46ff7849abef415da96e2cd74d524f7a",
      "59928580eb284e1da0ffc8fc3520f169",
      "2ee0d6ea0304437f94c30caf36c827c5",
      "b84f94e0c9c14718bba5e2b1b6eb23a7",
      "a665bd3f8b134464ab16da4aae9638db",
      "aea5a1ba92de4058912de4e48565ad7f",
      "6ff92d667ed545bd9508d0b0bfc28acf",
      "99ca21733abc4601bcc4e8c4b712af2b",
      "b00209f3e9464e068e4b2929b5d994de",
      "d97c8d3c301a46af9b8eb55c8386cd2e",
      "72de729a41dd4a06936fdf3d5ca4f951",
      "1b40974fdcb24ac4986ef705783fa417",
      "42b2b4bac72c4564bfb8856470c496cd",
      "1c331c4b918749fb992a82935546b321",
      "49553b1630374429b920eba03daa882d",
      "7f94fdb7882f49e7ad961d5169f36355",
      "59d096edd66c4353aac0d834c49bcbfe",
      "7acd2a04d6524e1b80206fa16c25bc0e",
      "e2d82f57abfc4053b51697f72a48fba3",
      "cb7b2251bfaf400d9d7d6ff12fde77bb",
      "01b9e54ff43a40c98779caa836b328f8",
      "6317f3b651764c7695d5a1d4038033b5",
      "6dbc8857e4f04ac799b9ede6a389bc9d",
      "5bfd345159734e09b966b5bcaa50df01",
      "39a76ff463b5488d915e67afe77758ff",
      "2fb3edbd19434e04bb0e7356393dd22a",
      "1e59802f7b174875bd2428cb1b0b9b25",
      "aeaa1c2d43524e64a50a15102655b467",
      "5832d7e9d7ab4f60984ec4b349ad133a",
      "09d0fea78f344fa7ba35a4287d8a6f54",
      "7fff2657a0cf4b7686e864da5723fa0e",
      "4a7cb46b8a6d4c14b1c0b6a274867560",
      "bad1461346fb40eab5d216c8e3609fee",
      "d2d2b151658c4eb2ae5077560287c79a",
      "e2af723ed4584a85a8ca35cc5b99bb01",
      "ce98f5642bb14bcebc1a751c806f3a2e",
      "e6115ec148254f3b8ddb7f096dea6e5f",
      "2e08abd16a6e4d7b9cc4ffeb7e52836e",
      "65acc8fd07b34c469f0c3cd82860e1a7",
      "f520c8f3c68647f294f4b8242493f286",
      "ea636ccd79814e58b46e16d65d632a3e",
      "5cf5614252474375954ec1f7acb72ab1",
      "8c0e05ac2f984e25ac04d249e0024795",
      "c27e82b60b5c405dba047e69aeb11c92",
      "d168e99e75e744aab670633ce2caa997",
      "b9550d48d2c443d0becaee613682cf6f",
      "e86dd6f307dc487cab94403f3f83536f",
      "9f6af648da374131a80881fcc54ab1a3",
      "90dc090c2d1841e4ad739440effe9117",
      "e7bf37e6c4b14780922866a62316e30a",
      "048d7278bc064332b30378f8a7f52f0b",
      "f2e5ab6d5aff44d9ad10648166a18f7b",
      "e366f5959cb8440e88dca97affa7dafb",
      "6607d402d9d54bf3a70dfcb85e78cf4c",
      "6c66c84cacab4a0e871949935f7c45bf",
      "dd1d3f90d83747788e7a8a068393866c",
      "a155438bdb6744ad9bc75d8328f0c59a",
      "181c0cbce55d42918f709555e104e779",
      "273fb83138f649578c555bd53b5e01fe",
      "a8bb6623b705499ebe9a0e1c08f64de7",
      "229308d1fbc44b089af16e4e046837fd",
      "6124d03d6a69492ea0c9be33c6200be0",
      "a3905654160549ed837aff651d714b1c",
      "403fdc4b031a499d9ca04adba3014260",
      "c570ea8fb7494ed1aeb282c3b7a945c7"
     ]
    },
    "id": "sLTZMWtF70Nh",
    "outputId": "94599d10-5806-4ea7-dfdf-c2d754d42199"
   },
   "outputs": [
    {
     "name": "stdout",
     "output_type": "stream",
     "text": [
      "Epoch 1/50\n",
      "----------\n"
     ]
    },
    {
     "data": {
      "application/vnd.jupyter.widget-view+json": {
       "model_id": "7f873852a077417e9e2d510c30ea738c",
       "version_major": 2,
       "version_minor": 0
      },
      "text/plain": [
       "Training:   0%|          | 0/20 [00:00<?, ?it/s]"
      ]
     },
     "metadata": {},
     "output_type": "display_data"
    },
    {
     "name": "stdout",
     "output_type": "stream",
     "text": [
      "Epoch 1: Train Loss = 1.4295, Train Acc = 0.2773\n"
     ]
    },
    {
     "data": {
      "application/vnd.jupyter.widget-view+json": {
       "model_id": "59b62fc6c3434a91a0269d7cb8f75700",
       "version_major": 2,
       "version_minor": 0
      },
      "text/plain": [
       "Validation:   0%|          | 0/3 [00:00<?, ?it/s]"
      ]
     },
     "metadata": {},
     "output_type": "display_data"
    },
    {
     "name": "stdout",
     "output_type": "stream",
     "text": [
      "Epoch 1: Eval Loss = 1.4741, Eval Acc = 0.2639\n",
      "\n",
      "Epoch 2/50\n",
      "----------\n"
     ]
    },
    {
     "data": {
      "application/vnd.jupyter.widget-view+json": {
       "model_id": "96c48adb45df467c945a674c4ba863b0",
       "version_major": 2,
       "version_minor": 0
      },
      "text/plain": [
       "Training:   0%|          | 0/20 [00:00<?, ?it/s]"
      ]
     },
     "metadata": {},
     "output_type": "display_data"
    },
    {
     "name": "stdout",
     "output_type": "stream",
     "text": [
      "Epoch 2: Train Loss = 1.3418, Train Acc = 0.3622\n"
     ]
    },
    {
     "data": {
      "application/vnd.jupyter.widget-view+json": {
       "model_id": "b9418094793b4d61ad839d95f7e10343",
       "version_major": 2,
       "version_minor": 0
      },
      "text/plain": [
       "Validation:   0%|          | 0/3 [00:00<?, ?it/s]"
      ]
     },
     "metadata": {},
     "output_type": "display_data"
    },
    {
     "name": "stdout",
     "output_type": "stream",
     "text": [
      "Epoch 2: Eval Loss = 1.4069, Eval Acc = 0.3194\n",
      "\n",
      "Epoch 3/50\n",
      "----------\n"
     ]
    },
    {
     "data": {
      "application/vnd.jupyter.widget-view+json": {
       "model_id": "ad46ade96f294a00a868a72a82c8f043",
       "version_major": 2,
       "version_minor": 0
      },
      "text/plain": [
       "Training:   0%|          | 0/20 [00:00<?, ?it/s]"
      ]
     },
     "metadata": {},
     "output_type": "display_data"
    },
    {
     "name": "stdout",
     "output_type": "stream",
     "text": [
      "Epoch 3: Train Loss = 1.3015, Train Acc = 0.4339\n"
     ]
    },
    {
     "data": {
      "application/vnd.jupyter.widget-view+json": {
       "model_id": "d56f06f943444aab8fca1a70f6792132",
       "version_major": 2,
       "version_minor": 0
      },
      "text/plain": [
       "Validation:   0%|          | 0/3 [00:00<?, ?it/s]"
      ]
     },
     "metadata": {},
     "output_type": "display_data"
    },
    {
     "name": "stdout",
     "output_type": "stream",
     "text": [
      "Epoch 3: Eval Loss = 1.3458, Eval Acc = 0.3889\n",
      "\n",
      "Epoch 4/50\n",
      "----------\n"
     ]
    },
    {
     "data": {
      "application/vnd.jupyter.widget-view+json": {
       "model_id": "6db6f8484e034530ab1f9e9aeebdf625",
       "version_major": 2,
       "version_minor": 0
      },
      "text/plain": [
       "Training:   0%|          | 0/20 [00:00<?, ?it/s]"
      ]
     },
     "metadata": {},
     "output_type": "display_data"
    },
    {
     "name": "stdout",
     "output_type": "stream",
     "text": [
      "Epoch 4: Train Loss = 1.2782, Train Acc = 0.4682\n"
     ]
    },
    {
     "data": {
      "application/vnd.jupyter.widget-view+json": {
       "model_id": "afb0ce8702cd4ea093806e7fac53ffa3",
       "version_major": 2,
       "version_minor": 0
      },
      "text/plain": [
       "Validation:   0%|          | 0/3 [00:00<?, ?it/s]"
      ]
     },
     "metadata": {},
     "output_type": "display_data"
    },
    {
     "name": "stdout",
     "output_type": "stream",
     "text": [
      "Epoch 4: Eval Loss = 1.3044, Eval Acc = 0.4167\n",
      "\n",
      "Epoch 5/50\n",
      "----------\n"
     ]
    },
    {
     "data": {
      "application/vnd.jupyter.widget-view+json": {
       "model_id": "bbee68f228b0493fbb62868f361e3c9d",
       "version_major": 2,
       "version_minor": 0
      },
      "text/plain": [
       "Training:   0%|          | 0/20 [00:00<?, ?it/s]"
      ]
     },
     "metadata": {},
     "output_type": "display_data"
    },
    {
     "name": "stdout",
     "output_type": "stream",
     "text": [
      "Epoch 5: Train Loss = 1.2439, Train Acc = 0.5139\n"
     ]
    },
    {
     "data": {
      "application/vnd.jupyter.widget-view+json": {
       "model_id": "8caf1c1e42384d5b98dbc146d1378e1b",
       "version_major": 2,
       "version_minor": 0
      },
      "text/plain": [
       "Validation:   0%|          | 0/3 [00:00<?, ?it/s]"
      ]
     },
     "metadata": {},
     "output_type": "display_data"
    },
    {
     "name": "stdout",
     "output_type": "stream",
     "text": [
      "Epoch 5: Eval Loss = 1.2788, Eval Acc = 0.4583\n",
      "\n",
      "Epoch 6/50\n",
      "----------\n"
     ]
    },
    {
     "data": {
      "application/vnd.jupyter.widget-view+json": {
       "model_id": "176c66cf11fa4d988f5024456604647a",
       "version_major": 2,
       "version_minor": 0
      },
      "text/plain": [
       "Training:   0%|          | 0/20 [00:00<?, ?it/s]"
      ]
     },
     "metadata": {},
     "output_type": "display_data"
    },
    {
     "name": "stdout",
     "output_type": "stream",
     "text": [
      "Epoch 6: Train Loss = 1.2178, Train Acc = 0.5269\n"
     ]
    },
    {
     "data": {
      "application/vnd.jupyter.widget-view+json": {
       "model_id": "35c71dfab84a4380afce83289a8b291b",
       "version_major": 2,
       "version_minor": 0
      },
      "text/plain": [
       "Validation:   0%|          | 0/3 [00:00<?, ?it/s]"
      ]
     },
     "metadata": {},
     "output_type": "display_data"
    },
    {
     "name": "stdout",
     "output_type": "stream",
     "text": [
      "Epoch 6: Eval Loss = 1.2464, Eval Acc = 0.4722\n",
      "\n",
      "Epoch 7/50\n",
      "----------\n"
     ]
    },
    {
     "data": {
      "application/vnd.jupyter.widget-view+json": {
       "model_id": "92c5c34b0d5d44cf98f7aaefa3b22142",
       "version_major": 2,
       "version_minor": 0
      },
      "text/plain": [
       "Training:   0%|          | 0/20 [00:00<?, ?it/s]"
      ]
     },
     "metadata": {},
     "output_type": "display_data"
    },
    {
     "name": "stdout",
     "output_type": "stream",
     "text": [
      "Epoch 7: Train Loss = 1.2049, Train Acc = 0.5237\n"
     ]
    },
    {
     "data": {
      "application/vnd.jupyter.widget-view+json": {
       "model_id": "18f42831ed154459a75c9a4a5175d5e5",
       "version_major": 2,
       "version_minor": 0
      },
      "text/plain": [
       "Validation:   0%|          | 0/3 [00:00<?, ?it/s]"
      ]
     },
     "metadata": {},
     "output_type": "display_data"
    },
    {
     "name": "stdout",
     "output_type": "stream",
     "text": [
      "Epoch 7: Eval Loss = 1.2326, Eval Acc = 0.4722\n",
      "\n",
      "Epoch 8/50\n",
      "----------\n"
     ]
    },
    {
     "data": {
      "application/vnd.jupyter.widget-view+json": {
       "model_id": "917a65c74cce45d4bc853b751771b516",
       "version_major": 2,
       "version_minor": 0
      },
      "text/plain": [
       "Training:   0%|          | 0/20 [00:00<?, ?it/s]"
      ]
     },
     "metadata": {},
     "output_type": "display_data"
    },
    {
     "name": "stdout",
     "output_type": "stream",
     "text": [
      "Epoch 8: Train Loss = 1.1789, Train Acc = 0.5579\n"
     ]
    },
    {
     "data": {
      "application/vnd.jupyter.widget-view+json": {
       "model_id": "01f9e6777a014aa596869157446a8ff1",
       "version_major": 2,
       "version_minor": 0
      },
      "text/plain": [
       "Validation:   0%|          | 0/3 [00:00<?, ?it/s]"
      ]
     },
     "metadata": {},
     "output_type": "display_data"
    },
    {
     "name": "stdout",
     "output_type": "stream",
     "text": [
      "Epoch 8: Eval Loss = 1.2124, Eval Acc = 0.4722\n",
      "\n",
      "Epoch 9/50\n",
      "----------\n"
     ]
    },
    {
     "data": {
      "application/vnd.jupyter.widget-view+json": {
       "model_id": "6a346366f8004079a566709fca172e68",
       "version_major": 2,
       "version_minor": 0
      },
      "text/plain": [
       "Training:   0%|          | 0/20 [00:00<?, ?it/s]"
      ]
     },
     "metadata": {},
     "output_type": "display_data"
    },
    {
     "name": "stdout",
     "output_type": "stream",
     "text": [
      "Epoch 9: Train Loss = 1.1627, Train Acc = 0.5449\n"
     ]
    },
    {
     "data": {
      "application/vnd.jupyter.widget-view+json": {
       "model_id": "f8239a81381e44279dc3ccf7e4438df2",
       "version_major": 2,
       "version_minor": 0
      },
      "text/plain": [
       "Validation:   0%|          | 0/3 [00:00<?, ?it/s]"
      ]
     },
     "metadata": {},
     "output_type": "display_data"
    },
    {
     "name": "stdout",
     "output_type": "stream",
     "text": [
      "Epoch 9: Eval Loss = 1.1916, Eval Acc = 0.4722\n",
      "\n",
      "Epoch 10/50\n",
      "----------\n"
     ]
    },
    {
     "data": {
      "application/vnd.jupyter.widget-view+json": {
       "model_id": "d38afb93951843ad870d62fd579e97ee",
       "version_major": 2,
       "version_minor": 0
      },
      "text/plain": [
       "Training:   0%|          | 0/20 [00:00<?, ?it/s]"
      ]
     },
     "metadata": {},
     "output_type": "display_data"
    },
    {
     "name": "stdout",
     "output_type": "stream",
     "text": [
      "Epoch 10: Train Loss = 1.1420, Train Acc = 0.5612\n"
     ]
    },
    {
     "data": {
      "application/vnd.jupyter.widget-view+json": {
       "model_id": "4b2908063d1043d6bedcd92c4bc657ef",
       "version_major": 2,
       "version_minor": 0
      },
      "text/plain": [
       "Validation:   0%|          | 0/3 [00:00<?, ?it/s]"
      ]
     },
     "metadata": {},
     "output_type": "display_data"
    },
    {
     "name": "stdout",
     "output_type": "stream",
     "text": [
      "Epoch 10: Eval Loss = 1.1787, Eval Acc = 0.4722\n",
      "\n",
      "Epoch 11/50\n",
      "----------\n"
     ]
    },
    {
     "data": {
      "application/vnd.jupyter.widget-view+json": {
       "model_id": "9625e3958790456b99b645363d7e3dc6",
       "version_major": 2,
       "version_minor": 0
      },
      "text/plain": [
       "Training:   0%|          | 0/20 [00:00<?, ?it/s]"
      ]
     },
     "metadata": {},
     "output_type": "display_data"
    },
    {
     "name": "stdout",
     "output_type": "stream",
     "text": [
      "Epoch 11: Train Loss = 1.1423, Train Acc = 0.5530\n"
     ]
    },
    {
     "data": {
      "application/vnd.jupyter.widget-view+json": {
       "model_id": "d7d6887489f84e71b86e77c33760dbd6",
       "version_major": 2,
       "version_minor": 0
      },
      "text/plain": [
       "Validation:   0%|          | 0/3 [00:00<?, ?it/s]"
      ]
     },
     "metadata": {},
     "output_type": "display_data"
    },
    {
     "name": "stdout",
     "output_type": "stream",
     "text": [
      "Epoch 11: Eval Loss = 1.1713, Eval Acc = 0.4861\n",
      "\n",
      "Epoch 12/50\n",
      "----------\n"
     ]
    },
    {
     "data": {
      "application/vnd.jupyter.widget-view+json": {
       "model_id": "d10ab6b43eff431f9970bfd7aa127c5a",
       "version_major": 2,
       "version_minor": 0
      },
      "text/plain": [
       "Training:   0%|          | 0/20 [00:00<?, ?it/s]"
      ]
     },
     "metadata": {},
     "output_type": "display_data"
    },
    {
     "name": "stdout",
     "output_type": "stream",
     "text": [
      "Epoch 12: Train Loss = 1.1085, Train Acc = 0.5677\n"
     ]
    },
    {
     "data": {
      "application/vnd.jupyter.widget-view+json": {
       "model_id": "9bededa4ddb6464d829c8f84ad1485c6",
       "version_major": 2,
       "version_minor": 0
      },
      "text/plain": [
       "Validation:   0%|          | 0/3 [00:00<?, ?it/s]"
      ]
     },
     "metadata": {},
     "output_type": "display_data"
    },
    {
     "name": "stdout",
     "output_type": "stream",
     "text": [
      "Epoch 12: Eval Loss = 1.1619, Eval Acc = 0.4722\n",
      "\n",
      "Epoch 13/50\n",
      "----------\n"
     ]
    },
    {
     "data": {
      "application/vnd.jupyter.widget-view+json": {
       "model_id": "ac995b866ff548e0b40b96bed35aedae",
       "version_major": 2,
       "version_minor": 0
      },
      "text/plain": [
       "Training:   0%|          | 0/20 [00:00<?, ?it/s]"
      ]
     },
     "metadata": {},
     "output_type": "display_data"
    },
    {
     "name": "stdout",
     "output_type": "stream",
     "text": [
      "Epoch 13: Train Loss = 1.0975, Train Acc = 0.5759\n"
     ]
    },
    {
     "data": {
      "application/vnd.jupyter.widget-view+json": {
       "model_id": "0b9d1e96953e48b4891948687aa9849a",
       "version_major": 2,
       "version_minor": 0
      },
      "text/plain": [
       "Validation:   0%|          | 0/3 [00:00<?, ?it/s]"
      ]
     },
     "metadata": {},
     "output_type": "display_data"
    },
    {
     "name": "stdout",
     "output_type": "stream",
     "text": [
      "Epoch 13: Eval Loss = 1.1371, Eval Acc = 0.4861\n",
      "\n",
      "Epoch 14/50\n",
      "----------\n"
     ]
    },
    {
     "data": {
      "application/vnd.jupyter.widget-view+json": {
       "model_id": "ede92ff4633e4c3f9dfb4faac67c342e",
       "version_major": 2,
       "version_minor": 0
      },
      "text/plain": [
       "Training:   0%|          | 0/20 [00:00<?, ?it/s]"
      ]
     },
     "metadata": {},
     "output_type": "display_data"
    },
    {
     "name": "stdout",
     "output_type": "stream",
     "text": [
      "Epoch 14: Train Loss = 1.0878, Train Acc = 0.5693\n"
     ]
    },
    {
     "data": {
      "application/vnd.jupyter.widget-view+json": {
       "model_id": "2b398c1c30f64575910b39671223b9a6",
       "version_major": 2,
       "version_minor": 0
      },
      "text/plain": [
       "Validation:   0%|          | 0/3 [00:00<?, ?it/s]"
      ]
     },
     "metadata": {},
     "output_type": "display_data"
    },
    {
     "name": "stdout",
     "output_type": "stream",
     "text": [
      "Epoch 14: Eval Loss = 1.1330, Eval Acc = 0.4861\n",
      "\n",
      "Epoch 15/50\n",
      "----------\n"
     ]
    },
    {
     "data": {
      "application/vnd.jupyter.widget-view+json": {
       "model_id": "1133e9e038fb4358bf54ab3e92577202",
       "version_major": 2,
       "version_minor": 0
      },
      "text/plain": [
       "Training:   0%|          | 0/20 [00:00<?, ?it/s]"
      ]
     },
     "metadata": {},
     "output_type": "display_data"
    },
    {
     "name": "stdout",
     "output_type": "stream",
     "text": [
      "Epoch 15: Train Loss = 1.0763, Train Acc = 0.5775\n"
     ]
    },
    {
     "data": {
      "application/vnd.jupyter.widget-view+json": {
       "model_id": "7a52873784274976993d0ecf6bc9dcc5",
       "version_major": 2,
       "version_minor": 0
      },
      "text/plain": [
       "Validation:   0%|          | 0/3 [00:00<?, ?it/s]"
      ]
     },
     "metadata": {},
     "output_type": "display_data"
    },
    {
     "name": "stdout",
     "output_type": "stream",
     "text": [
      "Epoch 15: Eval Loss = 1.1361, Eval Acc = 0.4861\n",
      "\n",
      "Epoch 16/50\n",
      "----------\n"
     ]
    },
    {
     "data": {
      "application/vnd.jupyter.widget-view+json": {
       "model_id": "5061bf3c462b46afa74fd81a71a880a7",
       "version_major": 2,
       "version_minor": 0
      },
      "text/plain": [
       "Training:   0%|          | 0/20 [00:00<?, ?it/s]"
      ]
     },
     "metadata": {},
     "output_type": "display_data"
    },
    {
     "name": "stdout",
     "output_type": "stream",
     "text": [
      "Epoch 16: Train Loss = 1.0517, Train Acc = 0.5905\n"
     ]
    },
    {
     "data": {
      "application/vnd.jupyter.widget-view+json": {
       "model_id": "7e107ec51c0b4124b01c7124c15df7ef",
       "version_major": 2,
       "version_minor": 0
      },
      "text/plain": [
       "Validation:   0%|          | 0/3 [00:00<?, ?it/s]"
      ]
     },
     "metadata": {},
     "output_type": "display_data"
    },
    {
     "name": "stdout",
     "output_type": "stream",
     "text": [
      "Epoch 16: Eval Loss = 1.1135, Eval Acc = 0.4583\n",
      "\n",
      "Epoch 17/50\n",
      "----------\n"
     ]
    },
    {
     "data": {
      "application/vnd.jupyter.widget-view+json": {
       "model_id": "55cb791bc5a647c39cbdd04ba875cfee",
       "version_major": 2,
       "version_minor": 0
      },
      "text/plain": [
       "Training:   0%|          | 0/20 [00:00<?, ?it/s]"
      ]
     },
     "metadata": {},
     "output_type": "display_data"
    },
    {
     "name": "stdout",
     "output_type": "stream",
     "text": [
      "Epoch 17: Train Loss = 1.0471, Train Acc = 0.5905\n"
     ]
    },
    {
     "data": {
      "application/vnd.jupyter.widget-view+json": {
       "model_id": "904e4c15abfc4888b1474bcf1c341060",
       "version_major": 2,
       "version_minor": 0
      },
      "text/plain": [
       "Validation:   0%|          | 0/3 [00:00<?, ?it/s]"
      ]
     },
     "metadata": {},
     "output_type": "display_data"
    },
    {
     "name": "stdout",
     "output_type": "stream",
     "text": [
      "Epoch 17: Eval Loss = 1.0992, Eval Acc = 0.5000\n",
      "\n",
      "Epoch 18/50\n",
      "----------\n"
     ]
    },
    {
     "data": {
      "application/vnd.jupyter.widget-view+json": {
       "model_id": "cc9b30baca314785bdd21e017d55f067",
       "version_major": 2,
       "version_minor": 0
      },
      "text/plain": [
       "Training:   0%|          | 0/20 [00:00<?, ?it/s]"
      ]
     },
     "metadata": {},
     "output_type": "display_data"
    },
    {
     "name": "stdout",
     "output_type": "stream",
     "text": [
      "Epoch 18: Train Loss = 1.0404, Train Acc = 0.5905\n"
     ]
    },
    {
     "data": {
      "application/vnd.jupyter.widget-view+json": {
       "model_id": "407cde84d55a45be90835c2174156a11",
       "version_major": 2,
       "version_minor": 0
      },
      "text/plain": [
       "Validation:   0%|          | 0/3 [00:00<?, ?it/s]"
      ]
     },
     "metadata": {},
     "output_type": "display_data"
    },
    {
     "name": "stdout",
     "output_type": "stream",
     "text": [
      "Epoch 18: Eval Loss = 1.1045, Eval Acc = 0.4861\n",
      "\n",
      "Epoch 19/50\n",
      "----------\n"
     ]
    },
    {
     "data": {
      "application/vnd.jupyter.widget-view+json": {
       "model_id": "74b233d119a544ee816723a5384103f9",
       "version_major": 2,
       "version_minor": 0
      },
      "text/plain": [
       "Training:   0%|          | 0/20 [00:00<?, ?it/s]"
      ]
     },
     "metadata": {},
     "output_type": "display_data"
    },
    {
     "name": "stdout",
     "output_type": "stream",
     "text": [
      "Epoch 19: Train Loss = 1.0214, Train Acc = 0.5824\n"
     ]
    },
    {
     "data": {
      "application/vnd.jupyter.widget-view+json": {
       "model_id": "175ff8a23afb445cbd96af037e4f131b",
       "version_major": 2,
       "version_minor": 0
      },
      "text/plain": [
       "Validation:   0%|          | 0/3 [00:00<?, ?it/s]"
      ]
     },
     "metadata": {},
     "output_type": "display_data"
    },
    {
     "name": "stdout",
     "output_type": "stream",
     "text": [
      "Epoch 19: Eval Loss = 1.0851, Eval Acc = 0.4861\n",
      "\n",
      "Epoch 20/50\n",
      "----------\n"
     ]
    },
    {
     "data": {
      "application/vnd.jupyter.widget-view+json": {
       "model_id": "1b158e55cd844e74b10fc47361418428",
       "version_major": 2,
       "version_minor": 0
      },
      "text/plain": [
       "Training:   0%|          | 0/20 [00:00<?, ?it/s]"
      ]
     },
     "metadata": {},
     "output_type": "display_data"
    },
    {
     "name": "stdout",
     "output_type": "stream",
     "text": [
      "Epoch 20: Train Loss = 1.0264, Train Acc = 0.5808\n"
     ]
    },
    {
     "data": {
      "application/vnd.jupyter.widget-view+json": {
       "model_id": "91e585f8f84048169fc6038a9accdfb5",
       "version_major": 2,
       "version_minor": 0
      },
      "text/plain": [
       "Validation:   0%|          | 0/3 [00:00<?, ?it/s]"
      ]
     },
     "metadata": {},
     "output_type": "display_data"
    },
    {
     "name": "stdout",
     "output_type": "stream",
     "text": [
      "Epoch 20: Eval Loss = 1.0919, Eval Acc = 0.4722\n",
      "\n",
      "Epoch 21/50\n",
      "----------\n"
     ]
    },
    {
     "data": {
      "application/vnd.jupyter.widget-view+json": {
       "model_id": "7a07e186bd2b4cb3905b9955a0ee67f8",
       "version_major": 2,
       "version_minor": 0
      },
      "text/plain": [
       "Training:   0%|          | 0/20 [00:00<?, ?it/s]"
      ]
     },
     "metadata": {},
     "output_type": "display_data"
    },
    {
     "name": "stdout",
     "output_type": "stream",
     "text": [
      "Epoch 21: Train Loss = 1.0099, Train Acc = 0.5938\n"
     ]
    },
    {
     "data": {
      "application/vnd.jupyter.widget-view+json": {
       "model_id": "04086d0fba324d48969359fa71fb7af2",
       "version_major": 2,
       "version_minor": 0
      },
      "text/plain": [
       "Validation:   0%|          | 0/3 [00:00<?, ?it/s]"
      ]
     },
     "metadata": {},
     "output_type": "display_data"
    },
    {
     "name": "stdout",
     "output_type": "stream",
     "text": [
      "Epoch 21: Eval Loss = 1.0848, Eval Acc = 0.4583\n",
      "\n",
      "Epoch 22/50\n",
      "----------\n"
     ]
    },
    {
     "data": {
      "application/vnd.jupyter.widget-view+json": {
       "model_id": "425b1c81a7b6429c9928521ba40a1967",
       "version_major": 2,
       "version_minor": 0
      },
      "text/plain": [
       "Training:   0%|          | 0/20 [00:00<?, ?it/s]"
      ]
     },
     "metadata": {},
     "output_type": "display_data"
    },
    {
     "name": "stdout",
     "output_type": "stream",
     "text": [
      "Epoch 22: Train Loss = 1.0077, Train Acc = 0.5938\n"
     ]
    },
    {
     "data": {
      "application/vnd.jupyter.widget-view+json": {
       "model_id": "edafeba96db244fd91fe19965e21a941",
       "version_major": 2,
       "version_minor": 0
      },
      "text/plain": [
       "Validation:   0%|          | 0/3 [00:00<?, ?it/s]"
      ]
     },
     "metadata": {},
     "output_type": "display_data"
    },
    {
     "name": "stdout",
     "output_type": "stream",
     "text": [
      "Epoch 22: Eval Loss = 1.0768, Eval Acc = 0.4722\n",
      "\n",
      "Epoch 23/50\n",
      "----------\n"
     ]
    },
    {
     "data": {
      "application/vnd.jupyter.widget-view+json": {
       "model_id": "a0748b05351f4dad89c5709550b0971b",
       "version_major": 2,
       "version_minor": 0
      },
      "text/plain": [
       "Training:   0%|          | 0/20 [00:00<?, ?it/s]"
      ]
     },
     "metadata": {},
     "output_type": "display_data"
    },
    {
     "name": "stdout",
     "output_type": "stream",
     "text": [
      "Epoch 23: Train Loss = 1.0005, Train Acc = 0.5938\n"
     ]
    },
    {
     "data": {
      "application/vnd.jupyter.widget-view+json": {
       "model_id": "972f88cc361f4bbba75b266b0d2e9849",
       "version_major": 2,
       "version_minor": 0
      },
      "text/plain": [
       "Validation:   0%|          | 0/3 [00:00<?, ?it/s]"
      ]
     },
     "metadata": {},
     "output_type": "display_data"
    },
    {
     "name": "stdout",
     "output_type": "stream",
     "text": [
      "Epoch 23: Eval Loss = 1.0630, Eval Acc = 0.4583\n",
      "\n",
      "Epoch 24/50\n",
      "----------\n"
     ]
    },
    {
     "data": {
      "application/vnd.jupyter.widget-view+json": {
       "model_id": "de70fc46bca946d5850ffe9be149b01a",
       "version_major": 2,
       "version_minor": 0
      },
      "text/plain": [
       "Training:   0%|          | 0/20 [00:00<?, ?it/s]"
      ]
     },
     "metadata": {},
     "output_type": "display_data"
    },
    {
     "name": "stdout",
     "output_type": "stream",
     "text": [
      "Epoch 24: Train Loss = 1.0085, Train Acc = 0.5742\n"
     ]
    },
    {
     "data": {
      "application/vnd.jupyter.widget-view+json": {
       "model_id": "6e80873754d44df2945e59783daa2aef",
       "version_major": 2,
       "version_minor": 0
      },
      "text/plain": [
       "Validation:   0%|          | 0/3 [00:00<?, ?it/s]"
      ]
     },
     "metadata": {},
     "output_type": "display_data"
    },
    {
     "name": "stdout",
     "output_type": "stream",
     "text": [
      "Epoch 24: Eval Loss = 1.0676, Eval Acc = 0.4722\n",
      "\n",
      "Epoch 25/50\n",
      "----------\n"
     ]
    },
    {
     "data": {
      "application/vnd.jupyter.widget-view+json": {
       "model_id": "903c1399884d4364afbdef58a956d36b",
       "version_major": 2,
       "version_minor": 0
      },
      "text/plain": [
       "Training:   0%|          | 0/20 [00:00<?, ?it/s]"
      ]
     },
     "metadata": {},
     "output_type": "display_data"
    },
    {
     "name": "stdout",
     "output_type": "stream",
     "text": [
      "Epoch 25: Train Loss = 0.9823, Train Acc = 0.5824\n"
     ]
    },
    {
     "data": {
      "application/vnd.jupyter.widget-view+json": {
       "model_id": "2b1e1382814f4f20b12110af7712f875",
       "version_major": 2,
       "version_minor": 0
      },
      "text/plain": [
       "Validation:   0%|          | 0/3 [00:00<?, ?it/s]"
      ]
     },
     "metadata": {},
     "output_type": "display_data"
    },
    {
     "name": "stdout",
     "output_type": "stream",
     "text": [
      "Epoch 25: Eval Loss = 1.0626, Eval Acc = 0.4722\n",
      "\n",
      "Epoch 26/50\n",
      "----------\n"
     ]
    },
    {
     "data": {
      "application/vnd.jupyter.widget-view+json": {
       "model_id": "27e7d208b50d4ac1a73cc261a901f47d",
       "version_major": 2,
       "version_minor": 0
      },
      "text/plain": [
       "Training:   0%|          | 0/20 [00:00<?, ?it/s]"
      ]
     },
     "metadata": {},
     "output_type": "display_data"
    },
    {
     "name": "stdout",
     "output_type": "stream",
     "text": [
      "Epoch 26: Train Loss = 0.9743, Train Acc = 0.5775\n"
     ]
    },
    {
     "data": {
      "application/vnd.jupyter.widget-view+json": {
       "model_id": "ec76063b43bc493f86f3a9cfe4bfe148",
       "version_major": 2,
       "version_minor": 0
      },
      "text/plain": [
       "Validation:   0%|          | 0/3 [00:00<?, ?it/s]"
      ]
     },
     "metadata": {},
     "output_type": "display_data"
    },
    {
     "name": "stdout",
     "output_type": "stream",
     "text": [
      "Epoch 26: Eval Loss = 1.0638, Eval Acc = 0.5000\n",
      "\n",
      "Epoch 27/50\n",
      "----------\n"
     ]
    },
    {
     "data": {
      "application/vnd.jupyter.widget-view+json": {
       "model_id": "281d1b43c0114713bb84542ff668558f",
       "version_major": 2,
       "version_minor": 0
      },
      "text/plain": [
       "Training:   0%|          | 0/20 [00:00<?, ?it/s]"
      ]
     },
     "metadata": {},
     "output_type": "display_data"
    },
    {
     "name": "stdout",
     "output_type": "stream",
     "text": [
      "Epoch 27: Train Loss = 0.9931, Train Acc = 0.5840\n"
     ]
    },
    {
     "data": {
      "application/vnd.jupyter.widget-view+json": {
       "model_id": "78febd958c0148f49eaff85fff40f115",
       "version_major": 2,
       "version_minor": 0
      },
      "text/plain": [
       "Validation:   0%|          | 0/3 [00:00<?, ?it/s]"
      ]
     },
     "metadata": {},
     "output_type": "display_data"
    },
    {
     "name": "stdout",
     "output_type": "stream",
     "text": [
      "Epoch 27: Eval Loss = 1.0521, Eval Acc = 0.4861\n",
      "\n",
      "Epoch 28/50\n",
      "----------\n"
     ]
    },
    {
     "data": {
      "application/vnd.jupyter.widget-view+json": {
       "model_id": "3f5f48485964477c8d546fd6c9daf431",
       "version_major": 2,
       "version_minor": 0
      },
      "text/plain": [
       "Training:   0%|          | 0/20 [00:00<?, ?it/s]"
      ]
     },
     "metadata": {},
     "output_type": "display_data"
    },
    {
     "name": "stdout",
     "output_type": "stream",
     "text": [
      "Epoch 28: Train Loss = 0.9739, Train Acc = 0.5677\n"
     ]
    },
    {
     "data": {
      "application/vnd.jupyter.widget-view+json": {
       "model_id": "57f8347f74d148c48ccd28a3cdc16865",
       "version_major": 2,
       "version_minor": 0
      },
      "text/plain": [
       "Validation:   0%|          | 0/3 [00:00<?, ?it/s]"
      ]
     },
     "metadata": {},
     "output_type": "display_data"
    },
    {
     "name": "stdout",
     "output_type": "stream",
     "text": [
      "Epoch 28: Eval Loss = 1.0430, Eval Acc = 0.4861\n",
      "\n",
      "Epoch 29/50\n",
      "----------\n"
     ]
    },
    {
     "data": {
      "application/vnd.jupyter.widget-view+json": {
       "model_id": "6defb5b48f7c4fbabbddf980a078fe46",
       "version_major": 2,
       "version_minor": 0
      },
      "text/plain": [
       "Training:   0%|          | 0/20 [00:00<?, ?it/s]"
      ]
     },
     "metadata": {},
     "output_type": "display_data"
    },
    {
     "name": "stdout",
     "output_type": "stream",
     "text": [
      "Epoch 29: Train Loss = 0.9738, Train Acc = 0.5971\n"
     ]
    },
    {
     "data": {
      "application/vnd.jupyter.widget-view+json": {
       "model_id": "d9aedb1d3f7241fb854951c4f724cc17",
       "version_major": 2,
       "version_minor": 0
      },
      "text/plain": [
       "Validation:   0%|          | 0/3 [00:00<?, ?it/s]"
      ]
     },
     "metadata": {},
     "output_type": "display_data"
    },
    {
     "name": "stdout",
     "output_type": "stream",
     "text": [
      "Epoch 29: Eval Loss = 1.0504, Eval Acc = 0.4861\n",
      "\n",
      "Epoch 30/50\n",
      "----------\n"
     ]
    },
    {
     "data": {
      "application/vnd.jupyter.widget-view+json": {
       "model_id": "f9fbfbc1dbba468ea69202509623505a",
       "version_major": 2,
       "version_minor": 0
      },
      "text/plain": [
       "Training:   0%|          | 0/20 [00:00<?, ?it/s]"
      ]
     },
     "metadata": {},
     "output_type": "display_data"
    },
    {
     "name": "stdout",
     "output_type": "stream",
     "text": [
      "Epoch 30: Train Loss = 0.9655, Train Acc = 0.6052\n"
     ]
    },
    {
     "data": {
      "application/vnd.jupyter.widget-view+json": {
       "model_id": "e4187c8c1afb496789b7ab618bec6ca6",
       "version_major": 2,
       "version_minor": 0
      },
      "text/plain": [
       "Validation:   0%|          | 0/3 [00:00<?, ?it/s]"
      ]
     },
     "metadata": {},
     "output_type": "display_data"
    },
    {
     "name": "stdout",
     "output_type": "stream",
     "text": [
      "Epoch 30: Eval Loss = 1.0521, Eval Acc = 0.5000\n",
      "\n",
      "Epoch 31/50\n",
      "----------\n"
     ]
    },
    {
     "data": {
      "application/vnd.jupyter.widget-view+json": {
       "model_id": "88e88b16dce84eb790c9fe4a99149708",
       "version_major": 2,
       "version_minor": 0
      },
      "text/plain": [
       "Training:   0%|          | 0/20 [00:00<?, ?it/s]"
      ]
     },
     "metadata": {},
     "output_type": "display_data"
    },
    {
     "name": "stdout",
     "output_type": "stream",
     "text": [
      "Epoch 31: Train Loss = 0.9475, Train Acc = 0.6020\n"
     ]
    },
    {
     "data": {
      "application/vnd.jupyter.widget-view+json": {
       "model_id": "4955c0829d654d8cb2aeb8f153b0b7d3",
       "version_major": 2,
       "version_minor": 0
      },
      "text/plain": [
       "Validation:   0%|          | 0/3 [00:00<?, ?it/s]"
      ]
     },
     "metadata": {},
     "output_type": "display_data"
    },
    {
     "name": "stdout",
     "output_type": "stream",
     "text": [
      "Epoch 31: Eval Loss = 1.0369, Eval Acc = 0.5139\n",
      "\n",
      "Epoch 32/50\n",
      "----------\n"
     ]
    },
    {
     "data": {
      "application/vnd.jupyter.widget-view+json": {
       "model_id": "c6cccedbd55e413480f0ce432f71e388",
       "version_major": 2,
       "version_minor": 0
      },
      "text/plain": [
       "Training:   0%|          | 0/20 [00:00<?, ?it/s]"
      ]
     },
     "metadata": {},
     "output_type": "display_data"
    },
    {
     "name": "stdout",
     "output_type": "stream",
     "text": [
      "Epoch 32: Train Loss = 0.9429, Train Acc = 0.6020\n"
     ]
    },
    {
     "data": {
      "application/vnd.jupyter.widget-view+json": {
       "model_id": "807b901a0cc245e5b39603f8338879b9",
       "version_major": 2,
       "version_minor": 0
      },
      "text/plain": [
       "Validation:   0%|          | 0/3 [00:00<?, ?it/s]"
      ]
     },
     "metadata": {},
     "output_type": "display_data"
    },
    {
     "name": "stdout",
     "output_type": "stream",
     "text": [
      "Epoch 32: Eval Loss = 1.0387, Eval Acc = 0.5000\n",
      "\n",
      "Epoch 33/50\n",
      "----------\n"
     ]
    },
    {
     "data": {
      "application/vnd.jupyter.widget-view+json": {
       "model_id": "8587eec607df49b8878b0626ea42d204",
       "version_major": 2,
       "version_minor": 0
      },
      "text/plain": [
       "Training:   0%|          | 0/20 [00:00<?, ?it/s]"
      ]
     },
     "metadata": {},
     "output_type": "display_data"
    },
    {
     "name": "stdout",
     "output_type": "stream",
     "text": [
      "Epoch 33: Train Loss = 0.9455, Train Acc = 0.5971\n"
     ]
    },
    {
     "data": {
      "application/vnd.jupyter.widget-view+json": {
       "model_id": "b0f5c510323841779ca1bc4c49b4d8f1",
       "version_major": 2,
       "version_minor": 0
      },
      "text/plain": [
       "Validation:   0%|          | 0/3 [00:00<?, ?it/s]"
      ]
     },
     "metadata": {},
     "output_type": "display_data"
    },
    {
     "name": "stdout",
     "output_type": "stream",
     "text": [
      "Epoch 33: Eval Loss = 1.0244, Eval Acc = 0.4722\n",
      "\n",
      "Epoch 34/50\n",
      "----------\n"
     ]
    },
    {
     "data": {
      "application/vnd.jupyter.widget-view+json": {
       "model_id": "9067e39bde1d4be990f4ee937a3e49c2",
       "version_major": 2,
       "version_minor": 0
      },
      "text/plain": [
       "Training:   0%|          | 0/20 [00:00<?, ?it/s]"
      ]
     },
     "metadata": {},
     "output_type": "display_data"
    },
    {
     "name": "stdout",
     "output_type": "stream",
     "text": [
      "Epoch 34: Train Loss = 0.9439, Train Acc = 0.5856\n"
     ]
    },
    {
     "data": {
      "application/vnd.jupyter.widget-view+json": {
       "model_id": "b90909cbe81c45fd97e35d1894f78808",
       "version_major": 2,
       "version_minor": 0
      },
      "text/plain": [
       "Validation:   0%|          | 0/3 [00:00<?, ?it/s]"
      ]
     },
     "metadata": {},
     "output_type": "display_data"
    },
    {
     "name": "stdout",
     "output_type": "stream",
     "text": [
      "Epoch 34: Eval Loss = 1.0254, Eval Acc = 0.5000\n",
      "\n",
      "Epoch 35/50\n",
      "----------\n"
     ]
    },
    {
     "data": {
      "application/vnd.jupyter.widget-view+json": {
       "model_id": "fa7ff0b0f9064f49b00ef35f91747689",
       "version_major": 2,
       "version_minor": 0
      },
      "text/plain": [
       "Training:   0%|          | 0/20 [00:00<?, ?it/s]"
      ]
     },
     "metadata": {},
     "output_type": "display_data"
    },
    {
     "name": "stdout",
     "output_type": "stream",
     "text": [
      "Epoch 35: Train Loss = 0.9434, Train Acc = 0.6052\n"
     ]
    },
    {
     "data": {
      "application/vnd.jupyter.widget-view+json": {
       "model_id": "10aa6dcb1f43462eba4e52712af6d5e9",
       "version_major": 2,
       "version_minor": 0
      },
      "text/plain": [
       "Validation:   0%|          | 0/3 [00:00<?, ?it/s]"
      ]
     },
     "metadata": {},
     "output_type": "display_data"
    },
    {
     "name": "stdout",
     "output_type": "stream",
     "text": [
      "Epoch 35: Eval Loss = 1.0222, Eval Acc = 0.5000\n",
      "\n",
      "Epoch 36/50\n",
      "----------\n"
     ]
    },
    {
     "data": {
      "application/vnd.jupyter.widget-view+json": {
       "model_id": "5bc7909c112348fca95ea9718c7ec48d",
       "version_major": 2,
       "version_minor": 0
      },
      "text/plain": [
       "Training:   0%|          | 0/20 [00:00<?, ?it/s]"
      ]
     },
     "metadata": {},
     "output_type": "display_data"
    },
    {
     "name": "stdout",
     "output_type": "stream",
     "text": [
      "Epoch 36: Train Loss = 0.9406, Train Acc = 0.6020\n"
     ]
    },
    {
     "data": {
      "application/vnd.jupyter.widget-view+json": {
       "model_id": "c55b0af1ca0a43d98446ed132bb0e51d",
       "version_major": 2,
       "version_minor": 0
      },
      "text/plain": [
       "Validation:   0%|          | 0/3 [00:00<?, ?it/s]"
      ]
     },
     "metadata": {},
     "output_type": "display_data"
    },
    {
     "name": "stdout",
     "output_type": "stream",
     "text": [
      "Epoch 36: Eval Loss = 1.0225, Eval Acc = 0.5000\n",
      "\n",
      "Epoch 37/50\n",
      "----------\n"
     ]
    },
    {
     "data": {
      "application/vnd.jupyter.widget-view+json": {
       "model_id": "aaea7728ffc84ec78b568f152e82847c",
       "version_major": 2,
       "version_minor": 0
      },
      "text/plain": [
       "Training:   0%|          | 0/20 [00:00<?, ?it/s]"
      ]
     },
     "metadata": {},
     "output_type": "display_data"
    },
    {
     "name": "stdout",
     "output_type": "stream",
     "text": [
      "Epoch 37: Train Loss = 0.9245, Train Acc = 0.6281\n"
     ]
    },
    {
     "data": {
      "application/vnd.jupyter.widget-view+json": {
       "model_id": "9f7c2556c9564e3aadd0d2adc9fc9ba9",
       "version_major": 2,
       "version_minor": 0
      },
      "text/plain": [
       "Validation:   0%|          | 0/3 [00:00<?, ?it/s]"
      ]
     },
     "metadata": {},
     "output_type": "display_data"
    },
    {
     "name": "stdout",
     "output_type": "stream",
     "text": [
      "Epoch 37: Eval Loss = 1.0247, Eval Acc = 0.5000\n",
      "\n",
      "Epoch 38/50\n",
      "----------\n"
     ]
    },
    {
     "data": {
      "application/vnd.jupyter.widget-view+json": {
       "model_id": "3c015b9e5b4d43c8b3359e68c21eed2f",
       "version_major": 2,
       "version_minor": 0
      },
      "text/plain": [
       "Training:   0%|          | 0/20 [00:00<?, ?it/s]"
      ]
     },
     "metadata": {},
     "output_type": "display_data"
    },
    {
     "name": "stdout",
     "output_type": "stream",
     "text": [
      "Epoch 38: Train Loss = 0.9318, Train Acc = 0.6052\n"
     ]
    },
    {
     "data": {
      "application/vnd.jupyter.widget-view+json": {
       "model_id": "9f56140c28a441808dc109ae4612c051",
       "version_major": 2,
       "version_minor": 0
      },
      "text/plain": [
       "Validation:   0%|          | 0/3 [00:00<?, ?it/s]"
      ]
     },
     "metadata": {},
     "output_type": "display_data"
    },
    {
     "name": "stdout",
     "output_type": "stream",
     "text": [
      "Epoch 38: Eval Loss = 1.0264, Eval Acc = 0.5139\n",
      "\n",
      "Epoch 39/50\n",
      "----------\n"
     ]
    },
    {
     "data": {
      "application/vnd.jupyter.widget-view+json": {
       "model_id": "9412ff45d94e47a2a24cf24211c5e7ad",
       "version_major": 2,
       "version_minor": 0
      },
      "text/plain": [
       "Training:   0%|          | 0/20 [00:00<?, ?it/s]"
      ]
     },
     "metadata": {},
     "output_type": "display_data"
    },
    {
     "name": "stdout",
     "output_type": "stream",
     "text": [
      "Epoch 39: Train Loss = 0.9161, Train Acc = 0.6150\n"
     ]
    },
    {
     "data": {
      "application/vnd.jupyter.widget-view+json": {
       "model_id": "b1c5eb9c291a463dbe1d23facd2fcc51",
       "version_major": 2,
       "version_minor": 0
      },
      "text/plain": [
       "Validation:   0%|          | 0/3 [00:00<?, ?it/s]"
      ]
     },
     "metadata": {},
     "output_type": "display_data"
    },
    {
     "name": "stdout",
     "output_type": "stream",
     "text": [
      "Epoch 39: Eval Loss = 1.0203, Eval Acc = 0.5139\n",
      "\n",
      "Epoch 40/50\n",
      "----------\n"
     ]
    },
    {
     "data": {
      "application/vnd.jupyter.widget-view+json": {
       "model_id": "57d622760e3d4e12807d051085dc9c05",
       "version_major": 2,
       "version_minor": 0
      },
      "text/plain": [
       "Training:   0%|          | 0/20 [00:00<?, ?it/s]"
      ]
     },
     "metadata": {},
     "output_type": "display_data"
    },
    {
     "name": "stdout",
     "output_type": "stream",
     "text": [
      "Epoch 40: Train Loss = 0.9206, Train Acc = 0.5971\n"
     ]
    },
    {
     "data": {
      "application/vnd.jupyter.widget-view+json": {
       "model_id": "ee3d9c5b7e2a41289db32bb7b88dc81e",
       "version_major": 2,
       "version_minor": 0
      },
      "text/plain": [
       "Validation:   0%|          | 0/3 [00:00<?, ?it/s]"
      ]
     },
     "metadata": {},
     "output_type": "display_data"
    },
    {
     "name": "stdout",
     "output_type": "stream",
     "text": [
      "Epoch 40: Eval Loss = 1.0185, Eval Acc = 0.5000\n",
      "\n",
      "Epoch 41/50\n",
      "----------\n"
     ]
    },
    {
     "data": {
      "application/vnd.jupyter.widget-view+json": {
       "model_id": "b2990ff04f6447dbb0e620dde6cf032c",
       "version_major": 2,
       "version_minor": 0
      },
      "text/plain": [
       "Training:   0%|          | 0/20 [00:00<?, ?it/s]"
      ]
     },
     "metadata": {},
     "output_type": "display_data"
    },
    {
     "name": "stdout",
     "output_type": "stream",
     "text": [
      "Epoch 41: Train Loss = 0.9270, Train Acc = 0.6215\n"
     ]
    },
    {
     "data": {
      "application/vnd.jupyter.widget-view+json": {
       "model_id": "4e82f42a70b842d1b77855ca636d9423",
       "version_major": 2,
       "version_minor": 0
      },
      "text/plain": [
       "Validation:   0%|          | 0/3 [00:00<?, ?it/s]"
      ]
     },
     "metadata": {},
     "output_type": "display_data"
    },
    {
     "name": "stdout",
     "output_type": "stream",
     "text": [
      "Epoch 41: Eval Loss = 1.0120, Eval Acc = 0.5000\n",
      "\n",
      "Epoch 42/50\n",
      "----------\n"
     ]
    },
    {
     "data": {
      "application/vnd.jupyter.widget-view+json": {
       "model_id": "61c389ebd7b04b1a8199ac461da9d5e8",
       "version_major": 2,
       "version_minor": 0
      },
      "text/plain": [
       "Training:   0%|          | 0/20 [00:00<?, ?it/s]"
      ]
     },
     "metadata": {},
     "output_type": "display_data"
    },
    {
     "name": "stdout",
     "output_type": "stream",
     "text": [
      "Epoch 42: Train Loss = 0.9079, Train Acc = 0.6166\n"
     ]
    },
    {
     "data": {
      "application/vnd.jupyter.widget-view+json": {
       "model_id": "c32d759c8ec342bda878d2eadeb36bde",
       "version_major": 2,
       "version_minor": 0
      },
      "text/plain": [
       "Validation:   0%|          | 0/3 [00:00<?, ?it/s]"
      ]
     },
     "metadata": {},
     "output_type": "display_data"
    },
    {
     "name": "stdout",
     "output_type": "stream",
     "text": [
      "Epoch 42: Eval Loss = 1.0082, Eval Acc = 0.4861\n",
      "\n",
      "Epoch 43/50\n",
      "----------\n"
     ]
    },
    {
     "data": {
      "application/vnd.jupyter.widget-view+json": {
       "model_id": "273c095ed12145d295a2d1c8bd4fc1e6",
       "version_major": 2,
       "version_minor": 0
      },
      "text/plain": [
       "Training:   0%|          | 0/20 [00:00<?, ?it/s]"
      ]
     },
     "metadata": {},
     "output_type": "display_data"
    },
    {
     "name": "stdout",
     "output_type": "stream",
     "text": [
      "Epoch 43: Train Loss = 0.9182, Train Acc = 0.6052\n"
     ]
    },
    {
     "data": {
      "application/vnd.jupyter.widget-view+json": {
       "model_id": "33c709197ba8445da3ecf59f27e9b2b8",
       "version_major": 2,
       "version_minor": 0
      },
      "text/plain": [
       "Validation:   0%|          | 0/3 [00:00<?, ?it/s]"
      ]
     },
     "metadata": {},
     "output_type": "display_data"
    },
    {
     "name": "stdout",
     "output_type": "stream",
     "text": [
      "Epoch 43: Eval Loss = 1.0068, Eval Acc = 0.5000\n",
      "\n",
      "Epoch 44/50\n",
      "----------\n"
     ]
    },
    {
     "data": {
      "application/vnd.jupyter.widget-view+json": {
       "model_id": "96eb4b35304a4841af49d3e5477e7087",
       "version_major": 2,
       "version_minor": 0
      },
      "text/plain": [
       "Training:   0%|          | 0/20 [00:00<?, ?it/s]"
      ]
     },
     "metadata": {},
     "output_type": "display_data"
    },
    {
     "name": "stdout",
     "output_type": "stream",
     "text": [
      "Epoch 44: Train Loss = 0.9249, Train Acc = 0.6003\n"
     ]
    },
    {
     "data": {
      "application/vnd.jupyter.widget-view+json": {
       "model_id": "5e6721af02d345199e5e42988a400f85",
       "version_major": 2,
       "version_minor": 0
      },
      "text/plain": [
       "Validation:   0%|          | 0/3 [00:00<?, ?it/s]"
      ]
     },
     "metadata": {},
     "output_type": "display_data"
    },
    {
     "name": "stdout",
     "output_type": "stream",
     "text": [
      "Epoch 44: Eval Loss = 1.0110, Eval Acc = 0.5000\n",
      "\n",
      "Epoch 45/50\n",
      "----------\n"
     ]
    },
    {
     "data": {
      "application/vnd.jupyter.widget-view+json": {
       "model_id": "00197135d4114b10841f8b928a1c7f0d",
       "version_major": 2,
       "version_minor": 0
      },
      "text/plain": [
       "Training:   0%|          | 0/20 [00:00<?, ?it/s]"
      ]
     },
     "metadata": {},
     "output_type": "display_data"
    },
    {
     "name": "stdout",
     "output_type": "stream",
     "text": [
      "Epoch 45: Train Loss = 0.8971, Train Acc = 0.6101\n"
     ]
    },
    {
     "data": {
      "application/vnd.jupyter.widget-view+json": {
       "model_id": "c0c94106db9c4deebb6c9595c6e67155",
       "version_major": 2,
       "version_minor": 0
      },
      "text/plain": [
       "Validation:   0%|          | 0/3 [00:00<?, ?it/s]"
      ]
     },
     "metadata": {},
     "output_type": "display_data"
    },
    {
     "name": "stdout",
     "output_type": "stream",
     "text": [
      "Epoch 45: Eval Loss = 0.9999, Eval Acc = 0.5000\n",
      "\n",
      "Epoch 46/50\n",
      "----------\n"
     ]
    },
    {
     "data": {
      "application/vnd.jupyter.widget-view+json": {
       "model_id": "d4b5c8898b74490da223eeebfe1d759d",
       "version_major": 2,
       "version_minor": 0
      },
      "text/plain": [
       "Training:   0%|          | 0/20 [00:00<?, ?it/s]"
      ]
     },
     "metadata": {},
     "output_type": "display_data"
    },
    {
     "name": "stdout",
     "output_type": "stream",
     "text": [
      "Epoch 46: Train Loss = 0.8939, Train Acc = 0.6150\n"
     ]
    },
    {
     "data": {
      "application/vnd.jupyter.widget-view+json": {
       "model_id": "c66208d0a7104a129cb08bf47ba2df06",
       "version_major": 2,
       "version_minor": 0
      },
      "text/plain": [
       "Validation:   0%|          | 0/3 [00:00<?, ?it/s]"
      ]
     },
     "metadata": {},
     "output_type": "display_data"
    },
    {
     "name": "stdout",
     "output_type": "stream",
     "text": [
      "Epoch 46: Eval Loss = 1.0146, Eval Acc = 0.4861\n",
      "\n",
      "Epoch 47/50\n",
      "----------\n"
     ]
    },
    {
     "data": {
      "application/vnd.jupyter.widget-view+json": {
       "model_id": "bfdc283b8d5d4c9cb66666e1d09574f5",
       "version_major": 2,
       "version_minor": 0
      },
      "text/plain": [
       "Training:   0%|          | 0/20 [00:00<?, ?it/s]"
      ]
     },
     "metadata": {},
     "output_type": "display_data"
    },
    {
     "name": "stdout",
     "output_type": "stream",
     "text": [
      "Epoch 47: Train Loss = 0.8945, Train Acc = 0.6020\n"
     ]
    },
    {
     "data": {
      "application/vnd.jupyter.widget-view+json": {
       "model_id": "0cf8cd9be0e44143b83688388e911e87",
       "version_major": 2,
       "version_minor": 0
      },
      "text/plain": [
       "Validation:   0%|          | 0/3 [00:00<?, ?it/s]"
      ]
     },
     "metadata": {},
     "output_type": "display_data"
    },
    {
     "name": "stdout",
     "output_type": "stream",
     "text": [
      "Epoch 47: Eval Loss = 1.0063, Eval Acc = 0.5000\n",
      "\n",
      "Epoch 48/50\n",
      "----------\n"
     ]
    },
    {
     "data": {
      "application/vnd.jupyter.widget-view+json": {
       "model_id": "f73739a63c6740c4b07f7249add47c31",
       "version_major": 2,
       "version_minor": 0
      },
      "text/plain": [
       "Training:   0%|          | 0/20 [00:00<?, ?it/s]"
      ]
     },
     "metadata": {},
     "output_type": "display_data"
    },
    {
     "name": "stdout",
     "output_type": "stream",
     "text": [
      "Epoch 48: Train Loss = 0.9097, Train Acc = 0.6183\n"
     ]
    },
    {
     "data": {
      "application/vnd.jupyter.widget-view+json": {
       "model_id": "44f2b00bd53e4092bb7029410ead805e",
       "version_major": 2,
       "version_minor": 0
      },
      "text/plain": [
       "Validation:   0%|          | 0/3 [00:00<?, ?it/s]"
      ]
     },
     "metadata": {},
     "output_type": "display_data"
    },
    {
     "name": "stdout",
     "output_type": "stream",
     "text": [
      "Epoch 48: Eval Loss = 0.9957, Eval Acc = 0.5139\n",
      "\n",
      "Epoch 49/50\n",
      "----------\n"
     ]
    },
    {
     "data": {
      "application/vnd.jupyter.widget-view+json": {
       "model_id": "72de729a41dd4a06936fdf3d5ca4f951",
       "version_major": 2,
       "version_minor": 0
      },
      "text/plain": [
       "Training:   0%|          | 0/20 [00:00<?, ?it/s]"
      ]
     },
     "metadata": {},
     "output_type": "display_data"
    },
    {
     "name": "stdout",
     "output_type": "stream",
     "text": [
      "Epoch 49: Train Loss = 0.9062, Train Acc = 0.6215\n"
     ]
    },
    {
     "data": {
      "application/vnd.jupyter.widget-view+json": {
       "model_id": "6317f3b651764c7695d5a1d4038033b5",
       "version_major": 2,
       "version_minor": 0
      },
      "text/plain": [
       "Validation:   0%|          | 0/3 [00:00<?, ?it/s]"
      ]
     },
     "metadata": {},
     "output_type": "display_data"
    },
    {
     "name": "stdout",
     "output_type": "stream",
     "text": [
      "Epoch 49: Eval Loss = 1.0028, Eval Acc = 0.4861\n",
      "\n",
      "Epoch 50/50\n",
      "----------\n"
     ]
    },
    {
     "data": {
      "application/vnd.jupyter.widget-view+json": {
       "model_id": "bad1461346fb40eab5d216c8e3609fee",
       "version_major": 2,
       "version_minor": 0
      },
      "text/plain": [
       "Training:   0%|          | 0/20 [00:00<?, ?it/s]"
      ]
     },
     "metadata": {},
     "output_type": "display_data"
    },
    {
     "name": "stdout",
     "output_type": "stream",
     "text": [
      "Epoch 50: Train Loss = 0.8812, Train Acc = 0.6199\n"
     ]
    },
    {
     "data": {
      "application/vnd.jupyter.widget-view+json": {
       "model_id": "c27e82b60b5c405dba047e69aeb11c92",
       "version_major": 2,
       "version_minor": 0
      },
      "text/plain": [
       "Validation:   0%|          | 0/3 [00:00<?, ?it/s]"
      ]
     },
     "metadata": {},
     "output_type": "display_data"
    },
    {
     "name": "stdout",
     "output_type": "stream",
     "text": [
      "Epoch 50: Eval Loss = 0.9965, Eval Acc = 0.5139\n",
      "\n",
      "Training complete in 2m 34s\n",
      "Best validation Acc: 0.5139\n"
     ]
    },
    {
     "data": {
      "application/vnd.jupyter.widget-view+json": {
       "model_id": "6c66c84cacab4a0e871949935f7c45bf",
       "version_major": 2,
       "version_minor": 0
      },
      "text/plain": [
       "Testing:   0%|          | 0/10 [00:00<?, ?it/s]"
      ]
     },
     "metadata": {},
     "output_type": "display_data"
    },
    {
     "name": "stdout",
     "output_type": "stream",
     "text": [
      "Test Accuracy: 0.6317\n"
     ]
    }
   ],
   "source": [
    "# 6. 훈련 및 검증 함수 정의\n",
    "def train_model(model, criterion, optimizer, dataloaders, dataset_sizes, device, num_epochs=25):\n",
    "    since = time.time()\n",
    "\n",
    "    best_model_wts = copy.deepcopy(model.state_dict())\n",
    "    best_acc = 0.0\n",
    "\n",
    "    for epoch in range(num_epochs):\n",
    "        print(f'Epoch {epoch+1}/{num_epochs}')\n",
    "        print('-' * 10)\n",
    "\n",
    "        # 학습 단계\n",
    "        model.train()\n",
    "        total_loss = 0.0\n",
    "        running_corrects = 0\n",
    " ㅈ\n",
    "        for batch in tqdm(dataloaders['train'], desc=\"Training\"):\n",
    "            inputs, labels = batch\n",
    "            inputs = inputs.to(device)\n",
    "            labels = labels.to(device)\n",
    "\n",
    "            optimizer.zero_grad()\n",
    "\n",
    "            outputs = model(inputs)  # (batch_size, num_classes)\n",
    "            loss = criterion(outputs, labels)  # 크로스엔트로피 손실\n",
    "\n",
    "            loss.backward()\n",
    "            optimizer.step()\n",
    "\n",
    "            total_loss += loss.item() * inputs.size(0)\n",
    "            _, preds = torch.max(outputs, 1)\n",
    "            running_corrects += torch.sum(preds == labels.data)\n",
    "\n",
    "        train_epoch_loss = total_loss / dataset_sizes['train']\n",
    "        train_epoch_acc = running_corrects.double() / dataset_sizes['train']\n",
    "        print(f\"Epoch {epoch+1}: Train Loss = {train_epoch_loss:.4f}, Train Acc = {train_epoch_acc:.4f}\")\n",
    "\n",
    "        # 검증 단계\n",
    "        model.eval()\n",
    "        eval_loss = 0.0\n",
    "        eval_corrects = 0\n",
    "\n",
    "        with torch.no_grad():\n",
    "            for batch in tqdm(dataloaders['valid'], desc=\"Validation\"):\n",
    "                inputs, labels = batch\n",
    "                inputs = inputs.to(device)\n",
    "                labels = labels.to(device)\n",
    "\n",
    "                outputs = model(inputs)\n",
    "                loss = criterion(outputs, labels)\n",
    "\n",
    "                eval_loss += loss.item() * inputs.size(0)\n",
    "                _, preds = torch.max(outputs, 1)\n",
    "                eval_corrects += torch.sum(preds == labels.data)\n",
    "\n",
    "        eval_epoch_loss = eval_loss / dataset_sizes['valid']\n",
    "        eval_epoch_acc = eval_corrects.double() / dataset_sizes['valid']\n",
    "        print(f\"Epoch {epoch+1}: Eval Loss = {eval_epoch_loss:.4f}, Eval Acc = {eval_epoch_acc:.4f}\")\n",
    "\n",
    "        # 최고 성능 모델 저장\n",
    "        if eval_epoch_acc > best_acc:\n",
    "            best_acc = eval_epoch_acc\n",
    "            best_model_wts = copy.deepcopy(model.state_dict())\n",
    "\n",
    "        print()\n",
    "\n",
    "    time_elapsed = time.time() - since\n",
    "    print(f'Training complete in {time_elapsed//60:.0f}m {time_elapsed%60:.0f}s')\n",
    "    print(f'Best validation Acc: {best_acc:.4f}')\n",
    "\n",
    "    # 최고 모델 가중치 로드\n",
    "    model.load_state_dict(best_model_wts)\n",
    "    return model\n",
    "\n",
    "# 7. 모델 훈련 실행\n",
    "model = train_model(model, criterion, optimizer, dataloaders, dataset_sizes, device, num_epochs=num_epochs)\n",
    "\n",
    "# 8. 테스트 데이터셋에서 모델 평가\n",
    "def evaluate_model(model, dataloader, dataset_size, device):\n",
    "    model.eval()\n",
    "    running_corrects = 0\n",
    "\n",
    "    with torch.no_grad():\n",
    "        for batch in tqdm(dataloader, desc=\"Testing\"):\n",
    "            inputs, labels = batch\n",
    "            inputs = inputs.to(device)\n",
    "            labels = labels.to(device)\n",
    "\n",
    "            outputs = model(inputs)\n",
    "            _, preds = torch.max(outputs, 1)\n",
    "\n",
    "            running_corrects += torch.sum(preds == labels.data)\n",
    "\n",
    "    accuracy = running_corrects.double() / dataset_size\n",
    "    print(f'Test Accuracy: {accuracy:.4f}')\n",
    "\n",
    "evaluate_model(model, dataloaders['test'], dataset_sizes['test'], device)"
   ]
  },
  {
   "cell_type": "code",
   "execution_count": null,
   "metadata": {
    "id": "ninNzT0p9pP5"
   },
   "outputs": [],
   "source": []
  }
 ],
 "metadata": {
  "accelerator": "GPU",
  "colab": {
   "gpuType": "A100",
   "machine_shape": "hm",
   "provenance": []
  },
  "kernelspec": {
   "display_name": "Python 3",
   "name": "python3"
  },
  "language_info": {
   "name": "python"
  }
 },
 "nbformat": 4,
 "nbformat_minor": 0
}
